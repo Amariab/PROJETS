{
 "cells": [
  {
   "cell_type": "code",
   "execution_count": null,
   "metadata": {},
   "outputs": [],
   "source": [
    "# Récupération de l'exercice sur :\n",
    "# https://www.youtube.com/watch?v=8eEv33-56r0"
   ]
  },
  {
   "cell_type": "code",
   "execution_count": 9,
   "metadata": {},
   "outputs": [
    {
     "name": "stdout",
     "output_type": "stream",
     "text": [
      "Le numéro de compte est 1234567\n",
      "Nom du propriétaire du compte :  Amaria BOUALAM\n",
      "Le solde est de :  150\n"
     ]
    }
   ],
   "source": [
    "class CompteBancaire :\n",
    "    def __init__(self, numeroCompte, nomPrenom, solde):\n",
    "        self.numeroCompte = numeroCompte\n",
    "        self.nomPrenom = nomPrenom\n",
    "        self.solde = solde\n",
    "        \n",
    "    def versement(self, somme) :\n",
    "        self.solde = self.solde + somme\n",
    "        \n",
    "newCompte = CompteBancaire(1234567, \"Amaria BOUALAM\", 150)\n",
    "\n",
    "print(\"Le numéro de compte est\", newCompte.numeroCompte)\n",
    "print(\"Nom du propriétaire du compte : \", newCompte.nomPrenom)\n",
    "print(\"Le solde est de : \", newCompte.solde)\n"
   ]
  },
  {
   "cell_type": "code",
   "execution_count": 10,
   "metadata": {},
   "outputs": [
    {
     "name": "stdout",
     "output_type": "stream",
     "text": [
      "Le numéro de compte est 1234567\n",
      "Nom du propriétaire du compte :  Amaria BOUALAM\n",
      "Le solde est de :  450\n"
     ]
    }
   ],
   "source": [
    "class CompteBancaire :\n",
    "    def __init__(self, numeroCompte, nomPrenom, solde):\n",
    "        self.numeroCompte = numeroCompte\n",
    "        self.nomPrenom = nomPrenom\n",
    "        self.solde = solde\n",
    "        \n",
    "    def versement(self, somme) :\n",
    "        self.solde = self.solde + somme\n",
    "        \n",
    "newCompte = CompteBancaire(1234567, \"Amaria BOUALAM\", 150)\n",
    "newCompte.versement(300)\n",
    "\n",
    "print(\"Le numéro de compte est\", newCompte.numeroCompte)\n",
    "print(\"Nom du propriétaire du compte : \", newCompte.nomPrenom)\n",
    "print(\"Le solde est de : \", newCompte.solde)"
   ]
  },
  {
   "cell_type": "code",
   "execution_count": 11,
   "metadata": {},
   "outputs": [
    {
     "name": "stdout",
     "output_type": "stream",
     "text": [
      "Le numéro de compte est 1234567\n",
      "Nom du propriétaire du compte :  Amaria BOUALAM\n",
      "Le solde est de :  400\n"
     ]
    }
   ],
   "source": [
    "class CompteBancaire :\n",
    "    def __init__(self, numeroCompte, nomPrenom, solde):\n",
    "        self.numeroCompte = numeroCompte\n",
    "        self.nomPrenom = nomPrenom\n",
    "        self.solde = solde\n",
    "        \n",
    "    def Versement(self, somme) :\n",
    "        self.solde = self.solde + somme\n",
    "        \n",
    "    def Retrait(self, retrait):\n",
    "        self.solde = self.solde - retrait\n",
    "        \n",
    "newCompte = CompteBancaire(1234567, \"Amaria BOUALAM\", 150)\n",
    "newCompte.Versement(300)\n",
    "newCompte.Retrait(50)\n",
    "\n",
    "print(\"Le numéro de compte est\", newCompte.numeroCompte)\n",
    "print(\"Nom du propriétaire du compte : \", newCompte.nomPrenom)\n",
    "print(\"Le solde est de : \", newCompte.solde)"
   ]
  },
  {
   "cell_type": "code",
   "execution_count": 13,
   "metadata": {},
   "outputs": [
    {
     "name": "stdout",
     "output_type": "stream",
     "text": [
      "Solde insuffisant !\n",
      "Le numéro de compte est 1234567\n",
      "Nom du propriétaire du compte :  Amaria BOUALAM\n",
      "Le solde est de :  50\n"
     ]
    }
   ],
   "source": [
    "class CompteBancaire :\n",
    "    def __init__(self, numeroCompte, nomPrenom, solde):\n",
    "        self.numeroCompte = numeroCompte\n",
    "        self.nomPrenom = nomPrenom\n",
    "        self.solde = solde\n",
    "        \n",
    "    def Versement(self, somme) :\n",
    "        self.solde = self.solde + somme\n",
    "        \n",
    "    def Retrait(self, somme): \n",
    "        if (somme > self.solde) :\n",
    "            print(\"Solde insuffisant !\")\n",
    "        else :\n",
    "            self.solde = self.solde - somme\n",
    "        \n",
    "newCompte = CompteBancaire(1234567, \"Amaria BOUALAM\", 50)\n",
    "newCompte.Retrait(500)\n",
    "\n",
    "print(\"Le numéro de compte est\", newCompte.numeroCompte)\n",
    "print(\"Nom du propriétaire du compte : \", newCompte.nomPrenom)\n",
    "print(\"Le solde est de : \", newCompte.solde)"
   ]
  },
  {
   "cell_type": "code",
   "execution_count": 14,
   "metadata": {},
   "outputs": [
    {
     "name": "stdout",
     "output_type": "stream",
     "text": [
      "Solde insuffisant !\n",
      "Le numéro de compte est 1234567\n",
      "Nom du propriétaire du compte :  Amaria BOUALAM\n",
      "Le solde est de :  47.5\n"
     ]
    }
   ],
   "source": [
    "class CompteBancaire :\n",
    "    def __init__(self, numeroCompte, nomPrenom, solde):\n",
    "        self.numeroCompte = numeroCompte\n",
    "        self.nomPrenom = nomPrenom\n",
    "        self.solde = solde\n",
    "        \n",
    "    def Versement(self, somme) :\n",
    "        self.solde = self.solde + somme\n",
    "        \n",
    "    def Retrait(self, somme): \n",
    "        if (somme > self.solde) :\n",
    "            print(\"Solde insuffisant !\")\n",
    "        else :\n",
    "            self.solde = self.solde - somme\n",
    "    \n",
    "    def Agios(self):\n",
    "        self.solde = self.solde*95/100\n",
    "        \n",
    "newCompte = CompteBancaire(1234567, \"Amaria BOUALAM\", 50)\n",
    "newCompte.Retrait(500)\n",
    "newCompte.Agios()\n",
    "\n",
    "print(\"Le numéro de compte est\", newCompte.numeroCompte)\n",
    "print(\"Nom du propriétaire du compte : \", newCompte.nomPrenom)\n",
    "print(\"Le solde est de : \", newCompte.solde)"
   ]
  },
  {
   "cell_type": "code",
   "execution_count": null,
   "metadata": {},
   "outputs": [],
   "source": []
  }
 ],
 "metadata": {
  "kernelspec": {
   "display_name": "Python 3",
   "language": "python",
   "name": "python3"
  },
  "language_info": {
   "codemirror_mode": {
    "name": "ipython",
    "version": 3
   },
   "file_extension": ".py",
   "mimetype": "text/x-python",
   "name": "python",
   "nbconvert_exporter": "python",
   "pygments_lexer": "ipython3",
   "version": "3.7.4"
  }
 },
 "nbformat": 4,
 "nbformat_minor": 2
}
