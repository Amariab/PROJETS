{
 "cells": [
  {
   "cell_type": "code",
   "execution_count": 1,
   "metadata": {},
   "outputs": [
    {
     "name": "stdout",
     "output_type": "stream",
     "text": [
      "['2', 'a', '7', 5]\n",
      "['8', 'k', 't', 3]\n"
     ]
    }
   ],
   "source": [
    "x=[\"2\", \"a\", \"7\"]\n",
    "y=[\"8\", \"k\", \"t\"]\n",
    "x.append(5)\n",
    "y.append(3)\n",
    "print(x)\n",
    "print(y)"
   ]
  },
  {
   "cell_type": "code",
   "execution_count": 2,
   "metadata": {},
   "outputs": [
    {
     "ename": "AttributeError",
     "evalue": "'str' object has no attribute 'append'",
     "output_type": "error",
     "traceback": [
      "\u001b[0;31m---------------------------------------------------------------------------\u001b[0m",
      "\u001b[0;31mAttributeError\u001b[0m                            Traceback (most recent call last)",
      "\u001b[0;32m<ipython-input-2-5990bae06ee0>\u001b[0m in \u001b[0;36m<module>\u001b[0;34m\u001b[0m\n\u001b[1;32m      1\u001b[0m \u001b[0mz\u001b[0m\u001b[0;34m=\u001b[0m\u001b[0;34m\"8Kt\"\u001b[0m\u001b[0;34m\u001b[0m\u001b[0;34m\u001b[0m\u001b[0m\n\u001b[0;32m----> 2\u001b[0;31m \u001b[0mz\u001b[0m\u001b[0;34m.\u001b[0m\u001b[0mappend\u001b[0m\u001b[0;34m(\u001b[0m\u001b[0;34m\"5\"\u001b[0m\u001b[0;34m)\u001b[0m\u001b[0;34m\u001b[0m\u001b[0;34m\u001b[0m\u001b[0m\n\u001b[0m",
      "\u001b[0;31mAttributeError\u001b[0m: 'str' object has no attribute 'append'"
     ]
    }
   ],
   "source": [
    "z=\"8Kt\"\n",
    "z.append(\"5\")"
   ]
  },
  {
   "cell_type": "code",
   "execution_count": 5,
   "metadata": {},
   "outputs": [
    {
     "name": "stdout",
     "output_type": "stream",
     "text": [
      "24\n"
     ]
    }
   ],
   "source": [
    "def f(x):\n",
    "    return x + a\n",
    "a= 12\n",
    "print(f(12))"
   ]
  },
  {
   "cell_type": "code",
   "execution_count": 6,
   "metadata": {},
   "outputs": [
    {
     "name": "stdout",
     "output_type": "stream",
     "text": [
      "8\n"
     ]
    }
   ],
   "source": [
    "a=2\n",
    "print(f(6))"
   ]
  },
  {
   "cell_type": "code",
   "execution_count": 4,
   "metadata": {},
   "outputs": [
    {
     "name": "stdout",
     "output_type": "stream",
     "text": [
      "ECOUTEZ BIEN C'EST TRÈS IMPORTANT CE QUE JE DIS !\n"
     ]
    }
   ],
   "source": [
    "'''Définition de la classe introduite par l’instruction\n",
    "« class » à l’image de « def » pour les fonctions.\n",
    "https://www.tutorialspoint.com/What-is-difference-between-self-and-init-methods-in-python-Class'''\n",
    "class superstring :\n",
    "    def __init__ (self, chaine):\n",
    "        # self.ch correspond à la chaine de caractère sur laquelle on travaille.\n",
    "        self.ch=chaine\n",
    "    def ajoute(self, char):\n",
    "        self.ch += char\n",
    "    def insert(self, char, i):\n",
    "        self.ch=self.ch[:i]+ char +self.ch[i:]\n",
    "    def upper(self):\n",
    "        self.ch= self.ch.upper()\n",
    "    def __str__(self):\n",
    "        return self.ch\n",
    "s1=superstring(\"Ecoutez bien c'est important\")\n",
    "s1.ajoute(\" ce que je dis !\")\n",
    "s1.insert(\" très\", 18)\n",
    "s1.upper()\n",
    "print(s1)\n"
   ]
  },
  {
   "cell_type": "code",
   "execution_count": 8,
   "metadata": {},
   "outputs": [
    {
     "name": "stdout",
     "output_type": "stream",
     "text": [
      "ecoutez bien c'est très important ce que je dis !\n"
     ]
    }
   ],
   "source": [
    "class superstring :\n",
    "    def __init__ (self, chaine):\n",
    "        # self.ch correspond à la chaine de caractère sur laquelle on travaille.\n",
    "        self.ch=chaine\n",
    "    def ajoute(self, char):\n",
    "        self.ch += char\n",
    "    def insert(self, char, i):\n",
    "        self.ch=self.ch[:i]+ char +self.ch[i:]\n",
    "    def capsdown(self):\n",
    "        self.ch= self.ch.lower()\n",
    "    def __str__(self):\n",
    "        return self.ch\n",
    "s1=superstring(\"Ecoutez bien c'est important\")\n",
    "s1.ajoute(\" ce que je dis !\")\n",
    "s1.insert(\" très\", 18)\n",
    "s1.capsdown()\n",
    "print(s1)"
   ]
  },
  {
   "cell_type": "code",
   "execution_count": 13,
   "metadata": {},
   "outputs": [
    {
     "name": "stdout",
     "output_type": "stream",
     "text": [
      "! Ecoutez bien c'est ce dis important je que très\n"
     ]
    }
   ],
   "source": [
    "#TRI SORTED ET JOIN\n",
    "\n",
    "class superstring :\n",
    "    def __init__ (self, chaine):\n",
    "        # self.ch correspond à la chaine de caractère sur laquelle on travaille.\n",
    "        self.ch=chaine\n",
    "    def ajoute(self, char):\n",
    "        self.ch += char\n",
    "    def insert(self, char, i):\n",
    "        self.ch=self.ch[:i]+ char +self.ch[i:]\n",
    "    def tri(self):\n",
    "        # argument de split : l'espace\n",
    "        self.ch= self.ch.split(' ')\n",
    "        #sorted (self.ch : pour faire un tri sur les mots et pas sur les lettres)\n",
    "        self.ch= sorted(self.ch)\n",
    "        self.ch = ' '.join(self.ch)\n",
    "    def __str__(self):\n",
    "        return self.ch\n",
    "s1=superstring(\"Ecoutez bien c'est important\")\n",
    "s1.ajoute(\" ce que je dis !\")\n",
    "s1.insert(\" très\", 18)\n",
    "s1.tri()\n",
    "print(s1)\n",
    "\n"
   ]
  },
  {
   "cell_type": "code",
   "execution_count": 18,
   "metadata": {},
   "outputs": [
    {
     "name": "stdout",
     "output_type": "stream",
     "text": [
      "type : superstring, contents: ECOUTEZ BIEN C'EST TRÈS IMPORTANT CE QUE JE DIS !!\n"
     ]
    }
   ],
   "source": [
    "class superstring :\n",
    "    def __init__ (self, chaine):\n",
    "        # self.ch correspond à la chaine de caractère sur laquelle on travaille.\n",
    "        self.ch=chaine\n",
    "    def ajoute(self, char):\n",
    "        self.ch += char\n",
    "    def insert(self, char, i):\n",
    "        self.ch=self.ch[:i]+ char +self.ch[i:]\n",
    "    def upper(self):\n",
    "        self.ch= self.ch.upper()\n",
    "    def __str__(self):\n",
    "        #return type : superstring, content : self.ch \n",
    "        return 'type : superstring, contents: '+self.ch.upper()+'!'\n",
    "  \n",
    " \n",
    "s1=superstring(\"Ecoutez bien c'est important\")\n",
    "s1.ajoute(\" ce que je dis !\")\n",
    "s1.insert(\" très\", 18)\n",
    "s1.upper()\n",
    "print(s1)"
   ]
  },
  {
   "cell_type": "code",
   "execution_count": null,
   "metadata": {},
   "outputs": [],
   "source": []
  },
  {
   "cell_type": "code",
   "execution_count": null,
   "metadata": {},
   "outputs": [],
   "source": []
  },
  {
   "cell_type": "code",
   "execution_count": 28,
   "metadata": {},
   "outputs": [
    {
     "ename": "TypeError",
     "evalue": "'int' object is not callable",
     "output_type": "error",
     "traceback": [
      "\u001b[0;31m---------------------------------------------------------------------------\u001b[0m",
      "\u001b[0;31mTypeError\u001b[0m                                 Traceback (most recent call last)",
      "\u001b[0;32m<ipython-input-28-4e4aa1afac93>\u001b[0m in \u001b[0;36m<module>\u001b[0;34m\u001b[0m\n\u001b[1;32m     25\u001b[0m         \u001b[0;31m#return self.nom == formulaire.nom and self.prenom == formulaire.prenom and self.age == formulaire.age\u001b[0m\u001b[0;34m\u001b[0m\u001b[0;34m\u001b[0m\u001b[0;34m\u001b[0m\u001b[0m\n\u001b[1;32m     26\u001b[0m \u001b[0;34m\u001b[0m\u001b[0m\n\u001b[0;32m---> 27\u001b[0;31m \u001b[0mA\u001b[0m\u001b[0;34m=\u001b[0m\u001b[0mformulaire\u001b[0m\u001b[0;34m(\u001b[0m\u001b[0;34m\"AAA\"\u001b[0m\u001b[0;34m,\u001b[0m \u001b[0;34m\"BBB\"\u001b[0m\u001b[0;34m,\u001b[0m \u001b[0;36m20\u001b[0m\u001b[0;34m)\u001b[0m\u001b[0;34m\u001b[0m\u001b[0;34m\u001b[0m\u001b[0m\n\u001b[0m\u001b[1;32m     28\u001b[0m \u001b[0mB\u001b[0m\u001b[0;34m=\u001b[0m\u001b[0mformulaire\u001b[0m\u001b[0;34m(\u001b[0m\u001b[0;34m\"AAA\"\u001b[0m\u001b[0;34m,\u001b[0m \u001b[0;34m\"CCC\"\u001b[0m\u001b[0;34m,\u001b[0m \u001b[0;36m15\u001b[0m\u001b[0;34m)\u001b[0m\u001b[0;34m\u001b[0m\u001b[0;34m\u001b[0m\u001b[0m\n\u001b[1;32m     29\u001b[0m \u001b[0;34m\u001b[0m\u001b[0m\n",
      "\u001b[0;32m<ipython-input-28-4e4aa1afac93>\u001b[0m in \u001b[0;36m__init__\u001b[0;34m(self, nom, prenom, anneeDeNaissance)\u001b[0m\n\u001b[1;32m      5\u001b[0m         \u001b[0mself\u001b[0m\u001b[0;34m.\u001b[0m\u001b[0mnom\u001b[0m\u001b[0;34m=\u001b[0m\u001b[0mnom\u001b[0m\u001b[0;34m.\u001b[0m\u001b[0mupper\u001b[0m\u001b[0;34m(\u001b[0m\u001b[0;34m)\u001b[0m\u001b[0;34m\u001b[0m\u001b[0;34m\u001b[0m\u001b[0m\n\u001b[1;32m      6\u001b[0m         \u001b[0mself\u001b[0m\u001b[0;34m.\u001b[0m\u001b[0mprenom\u001b[0m\u001b[0;34m=\u001b[0m\u001b[0mprenom\u001b[0m\u001b[0;34m.\u001b[0m\u001b[0mupper\u001b[0m\u001b[0;34m(\u001b[0m\u001b[0;34m)\u001b[0m\u001b[0;34m\u001b[0m\u001b[0;34m\u001b[0m\u001b[0m\n\u001b[0;32m----> 7\u001b[0;31m         \u001b[0mself\u001b[0m\u001b[0;34m.\u001b[0m\u001b[0manneeDeNaissance\u001b[0m\u001b[0;34m=\u001b[0m\u001b[0manneeDeNaissance\u001b[0m\u001b[0;34m(\u001b[0m\u001b[0;34m)\u001b[0m\u001b[0;34m\u001b[0m\u001b[0;34m\u001b[0m\u001b[0m\n\u001b[0m\u001b[1;32m      8\u001b[0m \u001b[0;34m\u001b[0m\u001b[0m\n\u001b[1;32m      9\u001b[0m     \u001b[0;32mdef\u001b[0m \u001b[0mage\u001b[0m\u001b[0;34m(\u001b[0m\u001b[0mself\u001b[0m\u001b[0;34m)\u001b[0m\u001b[0;34m:\u001b[0m\u001b[0;34m\u001b[0m\u001b[0;34m\u001b[0m\u001b[0m\n",
      "\u001b[0;31mTypeError\u001b[0m: 'int' object is not callable"
     ]
    }
   ],
   "source": [
    "# Ajouter une méthode qui vérifie si deux formulaires renvoient à la même personne\n",
    "\n",
    "class formulaire:\n",
    "    def __init__(self,nom, prenom, anneeDeNaissance):\n",
    "        self.nom=nom.upper()\n",
    "        self.prenom=prenom.upper()\n",
    "        self.anneeDeNaissance=anneeDeNaissance()\n",
    "        \n",
    "    def age(self):\n",
    "        return 2020 - self.anneeDeNaissance()\n",
    "    \n",
    "    #def majeur(self):\n",
    "        #return self.age()>=18\n",
    "    \n",
    "    def nom(self):\n",
    "        return self.nom()==formulaire.nom\n",
    "           \n",
    "    def prenom(self):\n",
    "        return self.prenom()==formulaire.prenom\n",
    "    \n",
    "    def anneeDeNaissance(self):\n",
    "        return self.anneeDeNaissance() == formulaire.anneeDeNaissance\n",
    "    \n",
    "    #def memefamille(self, formulaire):    \n",
    "        #return self.nom == formulaire.nom and self.prenom == formulaire.prenom and self.age == formulaire.age\n",
    "    \n",
    "A=formulaire(\"AAA\", \"BBB\", 20)\n",
    "B=formulaire(\"AAA\", \"CCC\", 15)\n",
    "\n",
    "print(A.nom(B))\n",
    "print(A.prenom(B))\n",
    "print(A.memefamille(B))\n",
    "\n",
    "   \n",
    "\n",
    "\n",
    "    \n",
    "\n"
   ]
  },
  {
   "cell_type": "code",
   "execution_count": 27,
   "metadata": {},
   "outputs": [
    {
     "data": {
      "text/plain": [
       "'Faire en sorte qu’on puisse afficher les formulaires sous la forme\\n[nom, prenom, anneeNaissance]. Créer une liste de formulaire et triez\\nla par ordre de naissance.'"
      ]
     },
     "execution_count": 27,
     "metadata": {},
     "output_type": "execute_result"
    }
   ],
   "source": [
    "'''Faire en sorte qu’on puisse afficher les formulaires sous la forme\n",
    "[nom, prenom, anneeNaissance]. Créer une liste de formulaire et triez\n",
    "la par ordre de naissance.'''\n",
    "\n",
    "class formulaire:\n",
    "    def __init__(self,nom, prenom, anneeDeNaissance):\n",
    "        self.nom=nom.upper()\n",
    "        self.prenom=prenom.upper()\n",
    "        self.anneeDeNaissance=anneeDeNaissance()\n",
    "        \n",
    "    def age(self):\n",
    "        return 2020 - self.anneeDeNaissance()\n",
    "    \n",
    "    #def majeur(self):\n",
    "        #return self.age()>=18\n",
    "    def memeFamille(self, formulaire)\n",
    "        return self.nom == formulaire.nom\n",
    "    \n",
    "    def memePersonnne(self):\n",
    "        return self.nom == formulaire.nom and  self.prenom=prenom\n",
    "    \n",
    "    def __str__ (self): #def __repr__(self)\n",
    "        return '(''+self.nom+', '+self.prenom+', %s)' % (self.anneeDeNaissance)\n",
    "    \n",
    "ab = formulaire(\"boualam\", \"amaria\", '1967') \n",
    "ab = formulaire(\"boualam\", \"amaria\", '1967') \n",
    "ab = formulaire(\"boualam\", \"amaria\", '1967') \n",
    "\n",
    "liste_formulaire = []\n",
    "liste_formulaire.append(ab)\n",
    "liste_formulaire.append(ab)\n",
    "liste_formulaire.append(ab)\n",
    "\n",
    "a = sorted[liste_formulaire, key = lambda year.anneeDeNaissance]\n",
    "#sorter : ordonne la liste formulaire\n",
    "\n",
    "for i in a :\n",
    "    print(i)\n",
    "\n"
   ]
  },
  {
   "cell_type": "code",
   "execution_count": 1,
   "metadata": {},
   "outputs": [
    {
     "name": "stdout",
     "output_type": "stream",
     "text": [
      "Vainqueur : joueur 1\n"
     ]
    }
   ],
   "source": [
    "from random import randrange\n",
    "# On simule un paquet de cartes et deux mains vides.\n",
    "\n",
    "# On initialise toutes les valeurs et toutes les couleurs\n",
    "# que peuvent prendre les cartes\n",
    "valeurs = [i for i in range(1, 11)]\n",
    "# as, 1 2 3 4 5 6 7 8 9 10\n",
    "couleurs = [i for i in range (1, 5)]\n",
    "# pique, trèfle, carreau, coeur\n",
    "\n",
    "# On choisit le nombre de tour que va durer la partie\n",
    "# et on initialise le score à 0.\n",
    "\n",
    "nbTours = 7\n",
    "score = 0\n",
    "\n",
    "# Enfin, on crée une liste de tuple\n",
    "# pour représenter le paquet de cartes\n",
    "paquet = [(v, c) for v in valeurs for c in couleurs]\n",
    "main1, main2 = [], []\n",
    "          \n",
    "#Chacun des deux joueurs tire une carte aléatoirement, elle est\n",
    "#supprimée du paquet et on répète l’opération pour chaque tour.\n",
    "for i in range(nbTours) :          \n",
    "# Le joueur 1 tire une carte aléatoirement dans le paquet\n",
    "    x = paquet[randrange(len(paquet))]          \n",
    "# La carte est ajoutée à la main du joueur 1\n",
    "    main1.append(x)\n",
    "# La carte tirée est supprimée du \n",
    "    paquet.remove(x)\n",
    "#idem pour le joueur 2  \n",
    "    y = paquet[randrange(len(paquet))]\n",
    "    main2.append(y)\n",
    "    paquet.remove(y)\n",
    "          \n",
    "for i in range (nbTours):\n",
    "    if main1[i][0] > main2[i][0] or (main1[i][0] == main2[i][0] and main1[i][1] > main2[i][1]) :\n",
    "        score += 1\n",
    "    else :\n",
    "        score -= 1\n",
    "          \n",
    "print(\"Vainqueur : \" + (\"joueur 1\" if score > 0 else \"joueur 2\"))          \n",
    "          "
   ]
  },
  {
   "cell_type": "code",
   "execution_count": 2,
   "metadata": {},
   "outputs": [
    {
     "name": "stdout",
     "output_type": "stream",
     "text": [
      "[(7, 3), (8, 1), (1, 4), (8, 4), (1, 2), (5, 2), (9, 4)] [(6, 1), (8, 3), (2, 4), (4, 3), (7, 2), (3, 1), (1, 1)]\n"
     ]
    }
   ],
   "source": [
    "#print(main1, main2)\n",
    "#affichage des tuples"
   ]
  },
  {
   "cell_type": "code",
   "execution_count": 34,
   "metadata": {
    "scrolled": true
   },
   "outputs": [
    {
     "ename": "SyntaxError",
     "evalue": "invalid syntax (<ipython-input-34-c2eb99521dfb>, line 7)",
     "output_type": "error",
     "traceback": [
      "\u001b[0;36m  File \u001b[0;32m\"<ipython-input-34-c2eb99521dfb>\"\u001b[0;36m, line \u001b[0;32m7\u001b[0m\n\u001b[0;31m    else :\u001b[0m\n\u001b[0m       ^\u001b[0m\n\u001b[0;31mSyntaxError\u001b[0m\u001b[0;31m:\u001b[0m invalid syntax\n"
     ]
    }
   ],
   "source": [
    "def plusGrandQue(carte1, carte2):\n",
    "    return carte1, carte2\n",
    "    if carte1 > carte2 :\n",
    "        print(\"%s est plus grand que %s\") (main1[0], main2[0]) \n",
    "    elif carte1 < carte2 :\n",
    "        print(\"%s est plus grand que %s\") [(main1[0], main2[0]) \n",
    "    else :\n",
    "        print(\"%s identique à %s\")((main1[0], main2[0]) \n",
    "\n",
    "carte = plusGrandQue(main1[0], main2[0])\n",
    "     print(carte)\n",
    "\n",
    "        \n"
   ]
  },
  {
   "cell_type": "code",
   "execution_count": 22,
   "metadata": {},
   "outputs": [
    {
     "name": "stdout",
     "output_type": "stream",
     "text": [
      "(7, 3)\n",
      "(6, 1)\n"
     ]
    }
   ],
   "source": [
    "print(main1[0])\n",
    "print(main2[0])"
   ]
  },
  {
   "cell_type": "code",
   "execution_count": 31,
   "metadata": {},
   "outputs": [
    {
     "ename": "SyntaxError",
     "evalue": "invalid syntax (<ipython-input-31-39e681e7c260>, line 1)",
     "output_type": "error",
     "traceback": [
      "\u001b[0;36m  File \u001b[0;32m\"<ipython-input-31-39e681e7c260>\"\u001b[0;36m, line \u001b[0;32m1\u001b[0m\n\u001b[0;31m    def = 2\u001b[0m\n\u001b[0m        ^\u001b[0m\n\u001b[0;31mSyntaxError\u001b[0m\u001b[0;31m:\u001b[0m invalid syntax\n"
     ]
    }
   ],
   "source": [
    "def = 2"
   ]
  },
  {
   "cell_type": "code",
   "execution_count": null,
   "metadata": {},
   "outputs": [],
   "source": [
    "\"\"\"Créer une fonction piocher() qui doit sélectionner l’ensemble des carte\n",
    "tiré par un joueur et donc remplacer la deuxième partie du code .\"\"\"\n",
    "\n",
    "def piocher()"
   ]
  },
  {
   "cell_type": "code",
   "execution_count": null,
   "metadata": {},
   "outputs": [],
   "source": [
    "\"\"\"• Créer une classe « carte » ayant les attribut couleur et valeur. Elle\n",
    "devra être appelé dans la fonction plusGrandQue()\"\"\"\n",
    "\n"
   ]
  }
 ],
 "metadata": {
  "kernelspec": {
   "display_name": "Python 3",
   "language": "python",
   "name": "python3"
  },
  "language_info": {
   "codemirror_mode": {
    "name": "ipython",
    "version": 3
   },
   "file_extension": ".py",
   "mimetype": "text/x-python",
   "name": "python",
   "nbconvert_exporter": "python",
   "pygments_lexer": "ipython3",
   "version": "3.7.4"
  }
 },
 "nbformat": 4,
 "nbformat_minor": 2
}
