{
 "cells": [
  {
   "cell_type": "code",
   "execution_count": null,
   "metadata": {},
   "outputs": [],
   "source": []
  },
  {
   "cell_type": "code",
   "execution_count": null,
   "metadata": {},
   "outputs": [],
   "source": []
  },
  {
   "cell_type": "code",
   "execution_count": null,
   "metadata": {},
   "outputs": [],
   "source": []
  },
  {
   "cell_type": "code",
   "execution_count": 9,
   "metadata": {},
   "outputs": [
    {
     "name": "stdout",
     "output_type": "stream",
     "text": [
      "h\n",
      "e\n",
      "l\n",
      "l\n",
      "o\n"
     ]
    }
   ],
   "source": [
    "for character in 'hello':\n",
    "    print(character)"
   ]
  },
  {
   "cell_type": "code",
   "execution_count": 10,
   "metadata": {},
   "outputs": [
    {
     "name": "stdout",
     "output_type": "stream",
     "text": [
      "5 25\n",
      "6 36\n",
      "7 49\n",
      "end of loop\n"
     ]
    }
   ],
   "source": [
    "for i in range(5, 8):\n",
    "    print(i, i ** 2)\n",
    "print('end of loop')"
   ]
  },
  {
   "cell_type": "code",
   "execution_count": 11,
   "metadata": {},
   "outputs": [
    {
     "name": "stdout",
     "output_type": "stream",
     "text": [
      "0\n",
      "1\n",
      "2\n"
     ]
    }
   ],
   "source": [
    "for i in range(3):\n",
    "    print(i)\n",
    "# 0\n",
    "\n",
    "# 1\n",
    "# 2"
   ]
  },
  {
   "cell_type": "code",
   "execution_count": 12,
   "metadata": {},
   "outputs": [],
   "source": [
    "for i in range(-5):\n",
    "    print('Hello, world!')\n",
    "# rien ne s'affiche    "
   ]
  },
  {
   "cell_type": "code",
   "execution_count": 47,
   "metadata": {},
   "outputs": [
    {
     "name": "stdout",
     "output_type": "stream",
     "text": [
      "15\n"
     ]
    }
   ],
   "source": [
    "result = 0\n",
    "n = 5\n",
    "for i in range(1, n + 1):\n",
    "    result += i\n",
    "    # ce ^^ est le raccourci pour\n",
    "    # résultat = résultat + i\n",
    "print(result)\n",
    "# addition 0 + 1 + 2 + 3 + 4 + 5"
   ]
  },
  {
   "cell_type": "code",
   "execution_count": 14,
   "metadata": {},
   "outputs": [
    {
     "name": "stdout",
     "output_type": "stream",
     "text": [
      "10\n",
      "8\n",
      "6\n",
      "4\n",
      "2\n"
     ]
    }
   ],
   "source": [
    "for i in range(10, 0, -2):\n",
    "    print(i)"
   ]
  },
  {
   "cell_type": "code",
   "execution_count": 15,
   "metadata": {},
   "outputs": [
    {
     "name": "stdout",
     "output_type": "stream",
     "text": [
      "1 2 3\n",
      "4 5 6\n",
      "1, 2, 3. 4, 5, 6. \n",
      "123 -- 4 * 5 * 6."
     ]
    }
   ],
   "source": [
    "print(1, 2, 3)\n",
    "print(4, 5, 6)\n",
    "print(1, 2, 3, sep=', ', end='. ')\n",
    "print(4, 5, 6, sep=', ', end='. ')\n",
    "print()\n",
    "print(1, 2, 3, sep='', end=' -- ')\n",
    "print(4, 5, 6, sep=' * ', end='.')\n",
    "# sep = séparateur virgule\n",
    "# end : finit par un point"
   ]
  },
  {
   "cell_type": "code",
   "execution_count": 41,
   "metadata": {},
   "outputs": [
    {
     "name": "stdout",
     "output_type": "stream",
     "text": [
      "-14\n",
      "7\n",
      "-14\n",
      "-13\n",
      "-12\n",
      "-11\n",
      "-10\n",
      "-9\n",
      "-8\n",
      "-7\n",
      "-6\n",
      "-5\n",
      "-4\n",
      "-3\n",
      "-2\n",
      "-1\n",
      "0\n",
      "1\n",
      "2\n",
      "3\n",
      "4\n",
      "5\n",
      "6\n",
      "7\n"
     ]
    }
   ],
   "source": [
    "# Read 2 integers :\n",
    "a = int(input())\n",
    "b = int(input())\n",
    "\n",
    "#c = a + 1\n",
    "#d = b - 1\n",
    "\n",
    "if a <= b :\n",
    "    for i in list(range(a, b+1, +1)) :\n",
    "        print(i)\n",
    "else :\n",
    "    for i in list(range(a, b-1, -1)) :\n",
    "        print(i)\n"
   ]
  },
  {
   "cell_type": "code",
   "execution_count": 33,
   "metadata": {},
   "outputs": [
    {
     "name": "stdout",
     "output_type": "stream",
     "text": [
      "# 1 color of rainbow is red\n",
      "# 2 color of rainbow is orange\n",
      "# 3 color of rainbow is yellow\n",
      "# 4 color of rainbow is green\n",
      "# 5 color of rainbow is cyan\n",
      "# 6 color of rainbow is blue\n",
      "# 7 color of rainbow is violet\n"
     ]
    }
   ],
   "source": [
    "i = 1\n",
    "for color in 'red', 'orange', 'yellow', 'green', 'cyan', 'blue', 'violet':\n",
    "    print('#', i, 'color of rainbow is', color)\n",
    "    i = i + 1"
   ]
  },
  {
   "cell_type": "code",
   "execution_count": 59,
   "metadata": {},
   "outputs": [
    {
     "name": "stdout",
     "output_type": "stream",
     "text": [
      "6\n",
      "21\n"
     ]
    }
   ],
   "source": [
    "b = 0\n",
    "n = int(input())\n",
    "for i in range(1, n + 1):\n",
    "    b += i\n",
    "    # ce ^^ est le raccourci pour\n",
    "    # rtésultat = résultat + i\n",
    "print(b)"
   ]
  },
  {
   "cell_type": "code",
   "execution_count": 60,
   "metadata": {},
   "outputs": [
    {
     "name": "stdout",
     "output_type": "stream",
     "text": [
      "2\n",
      "4\n",
      "2 3 4 "
     ]
    }
   ],
   "source": [
    "a=int(input())\n",
    "b=int(input())\n",
    "string=\"\"\n",
    "for a in range(a,b+1):\n",
    "    print(a,end=\" \")"
   ]
  },
  {
   "cell_type": "code",
   "execution_count": 61,
   "metadata": {},
   "outputs": [
    {
     "name": "stdout",
     "output_type": "stream",
     "text": [
      "3\n",
      "5\n",
      "3 4 5 "
     ]
    }
   ],
   "source": [
    "a=int(input())\n",
    "b=int(input())\n",
    "if a<b:\n",
    "    for a in range(a,b+1):\n",
    "        print(a,end=\" \")\n",
    "else:\n",
    "    for b in range(b,a+1):\n",
    "        print(a,end=\" \")\n",
    "        a-=1"
   ]
  },
  {
   "cell_type": "code",
   "execution_count": 62,
   "metadata": {},
   "outputs": [
    {
     "name": "stdout",
     "output_type": "stream",
     "text": [
      "3\n",
      "4\n",
      "4\n",
      "6\n",
      "7\n",
      "7\n",
      "1\n",
      "8\n",
      "9\n",
      "2\n",
      "51\n"
     ]
    }
   ],
   "source": [
    "a=0\n",
    "answer=0\n",
    "for a in range(10):\n",
    "    a=int(input())\n",
    "    answer+=a\n",
    "print(answer)"
   ]
  },
  {
   "cell_type": "code",
   "execution_count": null,
   "metadata": {},
   "outputs": [],
   "source": []
  }
 ],
 "metadata": {
  "kernelspec": {
   "display_name": "Python 3",
   "language": "python",
   "name": "python3"
  },
  "language_info": {
   "codemirror_mode": {
    "name": "ipython",
    "version": 3
   },
   "file_extension": ".py",
   "mimetype": "text/x-python",
   "name": "python",
   "nbconvert_exporter": "python",
   "pygments_lexer": "ipython3",
   "version": "3.7.4"
  }
 },
 "nbformat": 4,
 "nbformat_minor": 2
}
