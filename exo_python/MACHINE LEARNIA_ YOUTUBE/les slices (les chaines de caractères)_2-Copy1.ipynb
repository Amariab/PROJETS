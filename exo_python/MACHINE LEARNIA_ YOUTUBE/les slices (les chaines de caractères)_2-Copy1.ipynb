{
 "cells": [
  {
   "cell_type": "code",
   "execution_count": 2,
   "metadata": {},
   "outputs": [
    {
     "name": "stdout",
     "output_type": "stream",
     "text": [
      "26\n"
     ]
    }
   ],
   "source": [
    "print(len(\"abcdefghijqlmnopqrstuvwxyz\"))"
   ]
  },
  {
   "cell_type": "code",
   "execution_count": 4,
   "metadata": {},
   "outputs": [
    {
     "name": "stdout",
     "output_type": "stream",
     "text": [
      "aaa aaa aaa \n"
     ]
    }
   ],
   "source": [
    "print(\"aaa \"*3)"
   ]
  },
  {
   "cell_type": "code",
   "execution_count": 6,
   "metadata": {},
   "outputs": [
    {
     "name": "stdout",
     "output_type": "stream",
     "text": [
      "128\n",
      "3\n"
     ]
    }
   ],
   "source": [
    "# conversion en string\n",
    "s = str(2 ** 7)\n",
    "print(s)  # 128 combien de chiffres dans la chaine de caractère ?\n",
    "print(len(s))  # 3"
   ]
  },
  {
   "cell_type": "code",
   "execution_count": 8,
   "metadata": {},
   "outputs": [
    {
     "ename": "IndentationError",
     "evalue": "unexpected indent (<ipython-input-8-8f0955badfe2>, line 4)",
     "output_type": "error",
     "traceback": [
      "\u001b[0;36m  File \u001b[0;32m\"<ipython-input-8-8f0955badfe2>\"\u001b[0;36m, line \u001b[0;32m4\u001b[0m\n\u001b[0;31m    S[-1] == 'o' , S[-2] == 'l' , S[-3] == 'l' , S[-4] == 'e' , S[-5] == 'H'\u001b[0m\n\u001b[0m    ^\u001b[0m\n\u001b[0;31mIndentationError\u001b[0m\u001b[0;31m:\u001b[0m unexpected indent\n"
     ]
    }
   ],
   "source": [
    "# Les Tranches\n",
    "\n",
    "S = 'Hello' , S[0] == 'H' , S[1] == 'e' , S[2] == 'l' , S[3] == 'l' , S[4] == 'o'\n",
    "              S[-1] == 'o' , S[-2] == 'l' , S[-3] == 'l' , S[-4] == 'e' , S[-5] == 'H'\n",
    "              \n",
    "              S[1:4] == 'ell'\n",
    "              S[-4:-1] == 'ell'\n",
    "              S[1:] # à partir de 1 jusqu'à la fin\n",
    "            \n",
    "            \n",
    "            "
   ]
  },
  {
   "cell_type": "code",
   "execution_count": 9,
   "metadata": {},
   "outputs": [
    {
     "name": "stdout",
     "output_type": "stream",
     "text": [
      "Hello\n",
      "ll\n"
     ]
    }
   ],
   "source": [
    "s = 'Hello'\n",
    "t = s  # s et t pointent vers la même chaîne\n",
    "t = s[2:4]  # maintenant t pointe vers la nouvelle chaîne &#39;ll&#39;\n",
    "print(s)  # affiche &#39;Hello&#39; car s ne change pas\n",
    "print(t)  # imprime &#39;ll&#39;"
   ]
  },
  {
   "cell_type": "code",
   "execution_count": 11,
   "metadata": {},
   "outputs": [
    {
     "name": "stdout",
     "output_type": "stream",
     "text": [
      "b\n",
      "g\n",
      "bc\n",
      "bcdef\n",
      "abc\n",
      "cdefg\n",
      "abcdef\n",
      "aceg\n",
      "bdf\n",
      "gfedcba\n"
     ]
    }
   ],
   "source": [
    "s = 'abcdefg'\n",
    "print(s[1])\n",
    "print(s[-1])\n",
    "print(s[1:3])\n",
    "\n",
    "print(s[1:-1])\n",
    "print(s[:3])\n",
    "print(s[2:])\n",
    "print(s[:-1])\n",
    "print(s[::2])\n",
    "print(s[1::2])\n",
    "print(s[::-1])"
   ]
  },
  {
   "cell_type": "code",
   "execution_count": 17,
   "metadata": {},
   "outputs": [
    {
     "name": "stdout",
     "output_type": "stream",
     "text": [
      "13\n",
      "acegi\n",
      "0 a\n",
      "2 c\n",
      "4 e\n",
      "6 g\n",
      "8 i\n"
     ]
    }
   ],
   "source": [
    "s = 'abcdefghijklm'\n",
    "print(len(s))\n",
    "\n",
    "print(s[0:10:2])\n",
    "\n",
    "for i in range(0, 10, 2):#pour chaque index entre 0 et 10 avec un pas de 2\n",
    "    print(i, s[i])# écrire l'index et le caractère lié à l'index"
   ]
  },
  {
   "cell_type": "code",
   "execution_count": 18,
   "metadata": {},
   "outputs": [
    {
     "name": "stdout",
     "output_type": "stream",
     "text": [
      "1\n",
      "2\n",
      "-1\n"
     ]
    }
   ],
   "source": [
    "# LA METHODE FIND\n",
    "\n",
    "'''La méthode find() recherche une sous-chaîne, passée en argument, dans la chaîne sur laquelle elle est appelée. \n",
    "La fonction renvoie l'index de la première occurrence de la sous-chaîne. \n",
    "Si la sous-chaîne est introuvable, la méthode renvoie -1.''' \n",
    "\n",
    "s = 'Hello'\n",
    "print(s.find('e'))\n",
    "# 1\n",
    "print(s.find('ll'))\n",
    "# 2\n",
    "print(s.find('L'))\n",
    "# -1\n",
    "\n",
    "'''De même, la méthode rfind() renvoie l'indice de la DERNIERE OCCURENCE de la sous-chaîne.'''\n",
    "\n",
    "s = 'abracadabra'\n",
    "print(s.find('b'))\n",
    "# 1\n",
    "print(s.rfind('b'))\n",
    "# 8\n",
    "\n"
   ]
  },
  {
   "cell_type": "code",
   "execution_count": 25,
   "metadata": {},
   "outputs": [
    {
     "ename": "TypeError",
     "evalue": "'str' object cannot be interpreted as an integer",
     "output_type": "error",
     "traceback": [
      "\u001b[0;31m---------------------------------------------------------------------------\u001b[0m",
      "\u001b[0;31mTypeError\u001b[0m                                 Traceback (most recent call last)",
      "\u001b[0;32m<ipython-input-25-7fdfec2655ed>\u001b[0m in \u001b[0;36m<module>\u001b[0;34m\u001b[0m\n\u001b[1;32m      1\u001b[0m \u001b[0ms\u001b[0m \u001b[0;34m=\u001b[0m \u001b[0;34m'my name is bond james bond okay?'\u001b[0m\u001b[0;34m\u001b[0m\u001b[0;34m\u001b[0m\u001b[0m\n\u001b[1;32m      2\u001b[0m \u001b[0;34m\u001b[0m\u001b[0m\n\u001b[0;32m----> 3\u001b[0;31m \u001b[0;32mfor\u001b[0m \u001b[0mi\u001b[0m \u001b[0;32min\u001b[0m \u001b[0mrange\u001b[0m\u001b[0;34m(\u001b[0m\u001b[0ms\u001b[0m\u001b[0;34m)\u001b[0m\u001b[0;34m:\u001b[0m\u001b[0;31m#\u001b[0m\u001b[0;34m\u001b[0m\u001b[0;34m\u001b[0m\u001b[0m\n\u001b[0m\u001b[1;32m      4\u001b[0m     \u001b[0mprint\u001b[0m\u001b[0;34m(\u001b[0m\u001b[0mi\u001b[0m\u001b[0;34m,\u001b[0m \u001b[0ms\u001b[0m\u001b[0;34m[\u001b[0m\u001b[0mi\u001b[0m\u001b[0;34m]\u001b[0m\u001b[0;34m)\u001b[0m\u001b[0;34m\u001b[0m\u001b[0;34m\u001b[0m\u001b[0m\n\u001b[1;32m      5\u001b[0m \u001b[0;34m\u001b[0m\u001b[0m\n",
      "\u001b[0;31mTypeError\u001b[0m: 'str' object cannot be interpreted as an integer"
     ]
    }
   ],
   "source": [
    "s = 'my name is bond james bond okay?'\n",
    "    \n",
    "print(s.find('bond'))\n",
    "# 11\n",
    "print(s.find('bond', 12))\n",
    "# 23"
   ]
  },
  {
   "cell_type": "code",
   "execution_count": 27,
   "metadata": {},
   "outputs": [
    {
     "ename": "SyntaxError",
     "evalue": "unexpected EOF while parsing (<ipython-input-27-90767e12000e>, line 4)",
     "output_type": "error",
     "traceback": [
      "\u001b[0;36m  File \u001b[0;32m\"<ipython-input-27-90767e12000e>\"\u001b[0;36m, line \u001b[0;32m4\u001b[0m\n\u001b[0;31m    print('a bar is a bar, essentially'.replace('bar', 'pub', 1)\u001b[0m\n\u001b[0m                                                                ^\u001b[0m\n\u001b[0;31mSyntaxError\u001b[0m\u001b[0;31m:\u001b[0m unexpected EOF while parsing\n"
     ]
    }
   ],
   "source": [
    "# Méthodes de chaîne: replace ()\n",
    "# Syntaxe: s.replace(old, new) \n",
    "s = 'a bar is a bar, essentially'\n",
    "print('a bar is a bar, essentially'.replace('bar', 'pub', 1)\n"
   ]
  },
  {
   "cell_type": "code",
   "execution_count": 29,
   "metadata": {},
   "outputs": [
    {
     "name": "stdout",
     "output_type": "stream",
     "text": [
      "4\n",
      "5\n"
     ]
    }
   ],
   "source": [
    "#  Méthodes de chaîne: count ()\n",
    "\n",
    "print('Abracadabra'.count('a'))\n",
    "# 4 ne tient pas compte de la majuscule\n",
    "print(('aa aa aa aa aa').count('aa'))\n",
    "# 5"
   ]
  },
  {
   "cell_type": "code",
   "execution_count": null,
   "metadata": {},
   "outputs": [],
   "source": [
    "s = str(input())#'Abrakadabra'\n",
    "print(s[2]) #  1 imprimez le troisième caractère de cette chaîne.\n",
    "print(s[-2]) # 2 imprimez l'avant-dernier caractère de cette chaîne\n",
    "print(s[0:5]) # 3 imprimez les cinq premiers caractères de cette chaîne.\n",
    "print(s[0:-2]) # 4 imprimez tous les caractères, sauf les deux derniers, de cette chaîne.\n",
    "print(s[:: 2]) # 5 imprimez tous les caractères de cette chaîne avec des indices pairs\n",
    "print(s[1:: 2]) # 6 imprimez tous les caractères de cette chaîne avec des indices impairs\n",
    "print(s[:: -1]) # 7 imprimez tous les caractères de la chaîne dans l'ordre inverse\n",
    "print(s[:: -2]) # 8 imprimez chaque deuxième caractère de la chaîne dans l'ordre inverse, en commençant par le dernier.\n",
    "print(len(s)) # 9 imprimez la longueur de la chaîne donnée\n",
    "\n",
    "\n",
    "\n"
   ]
  },
  {
   "cell_type": "code",
   "execution_count": null,
   "metadata": {},
   "outputs": [],
   "source": []
  },
  {
   "cell_type": "code",
   "execution_count": null,
   "metadata": {},
   "outputs": [],
   "source": []
  },
  {
   "cell_type": "code",
   "execution_count": null,
   "metadata": {},
   "outputs": [],
   "source": []
  }
 ],
 "metadata": {
  "kernelspec": {
   "display_name": "Python 3",
   "language": "python",
   "name": "python3"
  },
  "language_info": {
   "codemirror_mode": {
    "name": "ipython",
    "version": 3
   },
   "file_extension": ".py",
   "mimetype": "text/x-python",
   "name": "python",
   "nbconvert_exporter": "python",
   "pygments_lexer": "ipython3",
   "version": "3.7.4"
  }
 },
 "nbformat": 4,
 "nbformat_minor": 2
}
