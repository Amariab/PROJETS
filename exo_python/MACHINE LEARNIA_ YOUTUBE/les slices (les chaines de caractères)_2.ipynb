{
 "cells": [
  {
   "cell_type": "code",
   "execution_count": 2,
   "metadata": {},
   "outputs": [
    {
     "name": "stdout",
     "output_type": "stream",
     "text": [
      "26\n"
     ]
    }
   ],
   "source": [
    "print(len(\"abcdefghijqlmnopqrstuvwxyz\"))"
   ]
  },
  {
   "cell_type": "code",
   "execution_count": 4,
   "metadata": {},
   "outputs": [
    {
     "name": "stdout",
     "output_type": "stream",
     "text": [
      "aaa aaa aaa \n"
     ]
    }
   ],
   "source": [
    "print(\"aaa \"*3)"
   ]
  },
  {
   "cell_type": "code",
   "execution_count": 6,
   "metadata": {},
   "outputs": [
    {
     "name": "stdout",
     "output_type": "stream",
     "text": [
      "128\n",
      "3\n"
     ]
    }
   ],
   "source": [
    "# conversion en string\n",
    "s = str(2 ** 7)\n",
    "print(s)  # 128 combien de chiffres dans la chaine de caractère ?\n",
    "print(len(s))  # 3"
   ]
  },
  {
   "cell_type": "code",
   "execution_count": 8,
   "metadata": {},
   "outputs": [
    {
     "ename": "IndentationError",
     "evalue": "unexpected indent (<ipython-input-8-8f0955badfe2>, line 4)",
     "output_type": "error",
     "traceback": [
      "\u001b[0;36m  File \u001b[0;32m\"<ipython-input-8-8f0955badfe2>\"\u001b[0;36m, line \u001b[0;32m4\u001b[0m\n\u001b[0;31m    S[-1] == 'o' , S[-2] == 'l' , S[-3] == 'l' , S[-4] == 'e' , S[-5] == 'H'\u001b[0m\n\u001b[0m    ^\u001b[0m\n\u001b[0;31mIndentationError\u001b[0m\u001b[0;31m:\u001b[0m unexpected indent\n"
     ]
    }
   ],
   "source": [
    "# Les Tranches\n",
    "\n",
    "S = 'Hello' , S[0] == 'H' , S[1] == 'e' , S[2] == 'l' , S[3] == 'l' , S[4] == 'o'\n",
    "              S[-1] == 'o' , S[-2] == 'l' , S[-3] == 'l' , S[-4] == 'e' , S[-5] == 'H'\n",
    "              \n",
    "              S[1:4] == 'ell'\n",
    "              S[-4:-1] == 'ell'\n",
    "              S[1:] # à partir de 1 jusqu'à la fin\n",
    "            \n",
    "            \n",
    "            "
   ]
  },
  {
   "cell_type": "code",
   "execution_count": 9,
   "metadata": {},
   "outputs": [
    {
     "name": "stdout",
     "output_type": "stream",
     "text": [
      "Hello\n",
      "ll\n"
     ]
    }
   ],
   "source": [
    "s = 'Hello'\n",
    "t = s  # s et t pointent vers la même chaîne\n",
    "t = s[2:4]  # maintenant t pointe vers la nouvelle chaîne &#39;ll&#39;\n",
    "print(s)  # affiche &#39;Hello&#39; car s ne change pas\n",
    "print(t)  # imprime &#39;ll&#39;"
   ]
  },
  {
   "cell_type": "code",
   "execution_count": 11,
   "metadata": {},
   "outputs": [
    {
     "name": "stdout",
     "output_type": "stream",
     "text": [
      "b\n",
      "g\n",
      "bc\n",
      "bcdef\n",
      "abc\n",
      "cdefg\n",
      "abcdef\n",
      "aceg\n",
      "bdf\n",
      "gfedcba\n"
     ]
    }
   ],
   "source": [
    "s = 'abcdefg'\n",
    "print(s[1])\n",
    "print(s[-1])\n",
    "print(s[1:3])\n",
    "\n",
    "print(s[1:-1])\n",
    "print(s[:3])\n",
    "print(s[2:])\n",
    "print(s[:-1])\n",
    "print(s[::2])\n",
    "print(s[1::2])\n",
    "print(s[::-1])"
   ]
  },
  {
   "cell_type": "code",
   "execution_count": 17,
   "metadata": {},
   "outputs": [
    {
     "name": "stdout",
     "output_type": "stream",
     "text": [
      "13\n",
      "acegi\n",
      "0 a\n",
      "2 c\n",
      "4 e\n",
      "6 g\n",
      "8 i\n"
     ]
    }
   ],
   "source": [
    "s = 'abcdefghijklm'\n",
    "print(len(s))\n",
    "\n",
    "print(s[0:10:2])\n",
    "\n",
    "for i in range(0, 10, 2):#pour chaque index entre 0 et 10 avec un pas de 2\n",
    "    print(i, s[i])# écrire l'index et le caractère lié à l'index"
   ]
  },
  {
   "cell_type": "code",
   "execution_count": 18,
   "metadata": {},
   "outputs": [
    {
     "name": "stdout",
     "output_type": "stream",
     "text": [
      "1\n",
      "2\n",
      "-1\n"
     ]
    }
   ],
   "source": [
    "# LA METHODE FIND\n",
    "\n",
    "'''La méthode find() recherche une sous-chaîne, passée en argument, dans la chaîne sur laquelle elle est appelée. \n",
    "La fonction renvoie l'index de la première occurrence de la sous-chaîne. \n",
    "Si la sous-chaîne est introuvable, la méthode renvoie -1.''' \n",
    "\n",
    "s = 'Hello'\n",
    "print(s.find('e'))\n",
    "# 1\n",
    "print(s.find('ll'))\n",
    "# 2\n",
    "print(s.find('L'))\n",
    "# -1\n",
    "\n",
    "'''De même, la méthode rfind() renvoie l'indice de la DERNIERE OCCURENCE de la sous-chaîne.'''\n",
    "\n",
    "s = 'abracadabra'\n",
    "print(s.find('b'))\n",
    "# 1\n",
    "print(s.rfind('b'))\n",
    "# 8\n",
    "\n"
   ]
  },
  {
   "cell_type": "code",
   "execution_count": null,
   "metadata": {},
   "outputs": [],
   "source": [
    "s = 'my name is bond james bond okay?'\n",
    "    \n",
    "print(s.find('bond'))\n",
    "# 11\n",
    "print(s.find('bond', 12))\n",
    "# 23"
   ]
  },
  {
   "cell_type": "code",
   "execution_count": null,
   "metadata": {},
   "outputs": [],
   "source": [
    "# Méthodes de chaîne: replace ()\n",
    "# Syntaxe: s.replace(old, new) \n",
    "s = 'a bar is a bar, essentially'\n",
    "print('a bar is a bar, essentially'.replace('bar', 'pub', 1))\n"
   ]
  },
  {
   "cell_type": "code",
   "execution_count": 29,
   "metadata": {},
   "outputs": [
    {
     "name": "stdout",
     "output_type": "stream",
     "text": [
      "4\n",
      "5\n"
     ]
    }
   ],
   "source": [
    "#  Méthodes de chaîne: count ()\n",
    "\n",
    "print('Abracadabra'.count('a'))\n",
    "# 4 ne tient pas compte de la majuscule\n",
    "print(('aa aa aa aa aa').count('aa'))\n",
    "# 5"
   ]
  },
  {
   "cell_type": "code",
   "execution_count": null,
   "metadata": {},
   "outputs": [],
   "source": [
    "s = str(input())#'Abrakadabra'\n",
    "print(s[2]) #  1 imprimez le troisième caractère de cette chaîne.\n",
    "print(s[-2]) # 2 imprimez l'avant-dernier caractère de cette chaîne\n",
    "print(s[0:5]) # 3 imprimez les cinq premiers caractères de cette chaîne.\n",
    "print(s[0:-2]) # 4 imprimez tous les caractères, sauf les deux derniers, de cette chaîne.\n",
    "print(s[:: 2]) # 5 imprimez tous les caractères de cette chaîne avec des indices pairs\n",
    "print(s[1:: 2]) # 6 imprimez tous les caractères de cette chaîne avec des indices impairs\n",
    "print(s[:: -1]) # 7 imprimez tous les caractères de la chaîne dans l'ordre inverse\n",
    "print(s[:: -2]) # 8 imprimez chaque deuxième caractère de la chaîne dans l'ordre inverse, en commençant par le dernier.\n",
    "print(len(s)) # 9 imprimez la longueur de la chaîne donnée\n",
    "\n",
    "\n",
    "\n"
   ]
  },
  {
   "cell_type": "code",
   "execution_count": 155,
   "metadata": {},
   "outputs": [
    {
     "name": "stdout",
     "output_type": "stream",
     "text": [
      "aaaZZZ\n",
      "6\n",
      "ZZZ\n",
      "aaa\n",
      "ZZZaaa\n"
     ]
    }
   ],
   "source": [
    "s = str(input())\n",
    "conteur = print(len(s))\n",
    "\n",
    "print(s[(len(s) + 1) // 2:]) # afficher le nb de len +1 divisé par 2 sans reste donc pair,\n",
    "print(s[:(len(s) + 1) // 2])\n",
    "print(s[(len(s) + 1) // 2:] + s[:(len(s) + 1) // 2])"
   ]
  },
  {
   "cell_type": "code",
   "execution_count": 98,
   "metadata": {},
   "outputs": [
    {
     "name": "stdout",
     "output_type": "stream",
     "text": [
      "50\n",
      "1\n",
      "4\n",
      "9\n",
      "16\n",
      "25\n",
      "36\n",
      "49\n"
     ]
    }
   ],
   "source": [
    "'''\n",
    "Pour un entier N donné, imprimez tous les carrés de nombres entiers où le carré est inférieur ou égal à N, \n",
    "dans l'ordre croissant.'''\n",
    "\n",
    "N = int(input())\n",
    "i = 1\n",
    "\n",
    "while i*i <= N :\n",
    "    print(i*i)\n",
    "    i = i +1\n",
    "#else : \n",
    "    #print('fin de boucle')\n",
    " #print('Loop ended, i = ', i)    \n"
   ]
  },
  {
   "cell_type": "code",
   "execution_count": 6,
   "metadata": {},
   "outputs": [
    {
     "name": "stdout",
     "output_type": "stream",
     "text": [
      "15\n",
      "3\n"
     ]
    }
   ],
   "source": [
    "'''Étant donné un entier non inférieur à 2. Imprimez son plus petit diviseur entier supérieur à 1.'''\n",
    "\n",
    "\n",
    "N = int(input())\n",
    "i = 2\n",
    "\n",
    "\n",
    "while N % i != 0:\n",
    "    i +=1\n",
    "       \n",
    "print(i)\n",
    "\n",
    "      \n",
    "        \n",
    "  \n",
    "\n",
    " \n",
    "    \n",
    "\n",
    "\n",
    "\n",
    "    "
   ]
  },
  {
   "cell_type": "code",
   "execution_count": 16,
   "metadata": {},
   "outputs": [
    {
     "name": "stdout",
     "output_type": "stream",
     "text": [
      "5\n",
      "0\n"
     ]
    }
   ],
   "source": [
    "'''Pour un entier N donné, trouvez le plus grand entier x où 2x est inférieur ou égal à N. \n",
    "Imprimez la valeur de l'exposant et le résultat de l'expression 2x.'''\n",
    "\n",
    "N = int(input())\n",
    "x = 0\n",
    "\n",
    "\n",
    "\n",
    "while (2**x > N) :\n",
    "    x+=1\n",
    "       \n",
    "print(x)\n",
    "\n",
    "# reponse : 5 32 pour 50\n"
   ]
  },
  {
   "cell_type": "code",
   "execution_count": null,
   "metadata": {},
   "outputs": [],
   "source": []
  },
  {
   "cell_type": "code",
   "execution_count": null,
   "metadata": {},
   "outputs": [],
   "source": []
  }
 ],
 "metadata": {
  "kernelspec": {
   "display_name": "Python 3",
   "language": "python",
   "name": "python3"
  },
  "language_info": {
   "codemirror_mode": {
    "name": "ipython",
    "version": 3
   },
   "file_extension": ".py",
   "mimetype": "text/x-python",
   "name": "python",
   "nbconvert_exporter": "python",
   "pygments_lexer": "ipython3",
   "version": "3.7.4"
  }
 },
 "nbformat": 4,
 "nbformat_minor": 2
}
