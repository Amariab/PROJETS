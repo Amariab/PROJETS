{
 "cells": [
  {
   "cell_type": "code",
   "execution_count": 3,
   "metadata": {},
   "outputs": [
    {
     "name": "stdout",
     "output_type": "stream",
     "text": [
      "paris\n"
     ]
    }
   ],
   "source": [
    "villes = ['paris', 'Marseille', 'Lyon', 'Aix']\n",
    "\n",
    "tuple_1 = (1, 2, 3)\n",
    "#non modifiable\n",
    "\n",
    "prenom = 'Amaria'\n",
    "#string\n",
    "\n",
    "#liste[#index] = élément\n",
    "\n",
    "#TECHNIQUE DE L'INDEXING :\n",
    "\n",
    "print(villes[0])"
   ]
  },
  {
   "cell_type": "code",
   "execution_count": 4,
   "metadata": {},
   "outputs": [
    {
     "name": "stdout",
     "output_type": "stream",
     "text": [
      "Aix\n"
     ]
    }
   ],
   "source": [
    "print(villes[-1])\n",
    "#pour récupérer le dernier élément d'une liste"
   ]
  },
  {
   "cell_type": "code",
   "execution_count": 14,
   "metadata": {},
   "outputs": [
    {
     "name": "stdout",
     "output_type": "stream",
     "text": [
      "['paris', 'Marseille']\n",
      "['paris', 'Marseille']\n",
      "['Lyon', 'Aix', 'Salon', 'Metz']\n",
      "['Marseille', 'Lyon']\n",
      "['paris', 'Lyon', 'Salon']\n",
      "['Metz', 'Salon', 'Aix', 'Lyon', 'Marseille', 'paris']\n"
     ]
    }
   ],
   "source": [
    "# TECHNIQUE DU SLICING\n",
    "\n",
    "villes = ['paris', 'Marseille', 'Lyon', 'Aix', 'Salon', 'Metz']\n",
    "\n",
    "# Liste [début : fin : pas]\n",
    "\n",
    "print(villes [0:2])\n",
    "#\n",
    "\n",
    "print(villes [:2])\n",
    "\n",
    "print(villes[2:])\n",
    "\n",
    "print(villes[1:3])\n",
    "\n",
    "print(villes[::2])#tous les deux pas\n",
    "\n",
    "print(villes[::-1]) # tous les éléments mais à l'envers\n"
   ]
  },
  {
   "cell_type": "code",
   "execution_count": 15,
   "metadata": {},
   "outputs": [
    {
     "name": "stdout",
     "output_type": "stream",
     "text": [
      "Ama\n"
     ]
    }
   ],
   "source": [
    "print([:3])"
   ]
  },
  {
   "cell_type": "code",
   "execution_count": 20,
   "metadata": {},
   "outputs": [
    {
     "name": "stdout",
     "output_type": "stream",
     "text": [
      "['Nice', 'Marseille', 'Lyon', 'Aix', 'Salon', 'Metz']\n"
     ]
    }
   ],
   "source": [
    "villes[0]=\"Nice\"\n",
    "print(villes)"
   ]
  },
  {
   "cell_type": "code",
   "execution_count": 21,
   "metadata": {},
   "outputs": [
    {
     "name": "stdout",
     "output_type": "stream",
     "text": [
      "['Nice', 'Marseille', 'Lyon', 'Aix', 'Salon', 'Metz', 'Paris']\n"
     ]
    }
   ],
   "source": [
    "villes.append(\"Paris\") #rajout d'un élément\n",
    "print(villes)"
   ]
  },
  {
   "cell_type": "code",
   "execution_count": 22,
   "metadata": {},
   "outputs": [
    {
     "name": "stdout",
     "output_type": "stream",
     "text": [
      "['Nice', 'Marseille', 'Grenoble', 'Lyon', 'Aix', 'Salon', 'Metz', 'Paris']\n"
     ]
    }
   ],
   "source": [
    "villes.insert(2, \"Grenoble\") # 2 étant l'index\n",
    "print(villes)"
   ]
  },
  {
   "cell_type": "code",
   "execution_count": 25,
   "metadata": {},
   "outputs": [
    {
     "name": "stdout",
     "output_type": "stream",
     "text": [
      "['Nice', 'Marseille', 'Grenoble', 'Lyon', 'Aix', 'Salon', 'Metz', 'Paris', 'Arles', 'Avignon', 'Arles', 'Avignon', 'Arles', 'Avignon']\n"
     ]
    },
    {
     "data": {
      "text/plain": [
       "['Nice',\n",
       " 'Marseille',\n",
       " 'Grenoble',\n",
       " 'Lyon',\n",
       " 'Aix',\n",
       " 'Salon',\n",
       " 'Metz',\n",
       " 'Paris',\n",
       " 'Arles',\n",
       " 'Avignon',\n",
       " 'Arles',\n",
       " 'Avignon',\n",
       " 'Arles',\n",
       " 'Avignon']"
      ]
     },
     "execution_count": 25,
     "metadata": {},
     "output_type": "execute_result"
    }
   ],
   "source": [
    "villes_2 = ['Arles', 'Avignon']\n",
    "villes.extend(villes_2)\n",
    "print(villes)\n",
    "villes\n"
   ]
  },
  {
   "cell_type": "code",
   "execution_count": 26,
   "metadata": {},
   "outputs": [
    {
     "data": {
      "text/plain": [
       "14"
      ]
     },
     "execution_count": 26,
     "metadata": {},
     "output_type": "execute_result"
    }
   ],
   "source": [
    "len(villes)"
   ]
  },
  {
   "cell_type": "code",
   "execution_count": 29,
   "metadata": {},
   "outputs": [
    {
     "name": "stdout",
     "output_type": "stream",
     "text": [
      "['Aix', 'Arles', 'Arles', 'Arles', 'Avignon', 'Avignon', 'Avignon', 'Grenoble', 'Lyon', 'Marseille', 'Metz', 'Nice', 'Paris', 'Salon']\n"
     ]
    }
   ],
   "source": [
    "villes.sort()\n",
    "print(villes)"
   ]
  },
  {
   "cell_type": "code",
   "execution_count": 34,
   "metadata": {},
   "outputs": [
    {
     "name": "stdout",
     "output_type": "stream",
     "text": [
      "['Salon', 'Paris', 'Nice', 'Metz', 'Marseille', 'Lyon', 'Grenoble', 'Avignon', 'Avignon', 'Avignon', 'Arles', 'Arles', 'Arles', 'Aix']\n"
     ]
    }
   ],
   "source": [
    "villes.sort(reverse = True)\n",
    "print(villes)"
   ]
  },
  {
   "cell_type": "code",
   "execution_count": 49,
   "metadata": {},
   "outputs": [
    {
     "name": "stdout",
     "output_type": "stream",
     "text": [
      "[1, 2, 3, 4, 5, 6, 7, 8, 9, 10, 11, 12, 13, 14]\n"
     ]
    }
   ],
   "source": [
    "liste_nb = [3, 7, 1, 6, 9, 2, 8, 4, 5, 11, 14, 10, 12, 13]\n",
    "liste_nb.sort()\n",
    "print(liste_nb)"
   ]
  },
  {
   "cell_type": "code",
   "execution_count": 50,
   "metadata": {},
   "outputs": [
    {
     "data": {
      "text/plain": [
       "1"
      ]
     },
     "execution_count": 50,
     "metadata": {},
     "output_type": "execute_result"
    }
   ],
   "source": [
    "villes.count('Salon')"
   ]
  },
  {
   "cell_type": "code",
   "execution_count": 51,
   "metadata": {},
   "outputs": [
    {
     "name": "stdout",
     "output_type": "stream",
     "text": [
      "[]\n"
     ]
    }
   ],
   "source": [
    "liste_nb.clear()\n",
    "\n",
    "print(liste_nb)"
   ]
  },
  {
   "cell_type": "code",
   "execution_count": 43,
   "metadata": {},
   "outputs": [
    {
     "name": "stdout",
     "output_type": "stream",
     "text": [
      "oui\n"
     ]
    }
   ],
   "source": [
    "if 'Paris' in villes :\n",
    "    print('oui')\n",
    "else :\n",
    "    print('non')"
   ]
  },
  {
   "cell_type": "code",
   "execution_count": 46,
   "metadata": {},
   "outputs": [
    {
     "name": "stdout",
     "output_type": "stream",
     "text": [
      "['Salon', 'Paris', 'Nice', 'Metz', 'Marseille', 'Lyon', 'Grenoble', 'Avignon', 'Avignon', 'Avignon', 'Arles', 'Arles', 'Arles', 'Aix']\n",
      "Salon\n",
      "Paris\n",
      "Nice\n",
      "Metz\n",
      "Marseille\n",
      "Lyon\n",
      "Grenoble\n",
      "Avignon\n",
      "Avignon\n",
      "Avignon\n",
      "Arles\n",
      "Arles\n",
      "Arles\n",
      "Aix\n"
     ]
    }
   ],
   "source": [
    "print(villes)\n",
    "\n",
    "for i in villes:\n",
    "        print(i)"
   ]
  },
  {
   "cell_type": "code",
   "execution_count": 48,
   "metadata": {},
   "outputs": [
    {
     "name": "stdout",
     "output_type": "stream",
     "text": [
      "0 Salon\n",
      "1 Paris\n",
      "2 Nice\n",
      "3 Metz\n",
      "4 Marseille\n",
      "5 Lyon\n",
      "6 Grenoble\n",
      "7 Avignon\n",
      "8 Avignon\n",
      "9 Avignon\n",
      "10 Arles\n",
      "11 Arles\n",
      "12 Arles\n",
      "13 Aix\n"
     ]
    }
   ],
   "source": [
    "for index, valeur in enumerate(villes) :\n",
    "    print(index, valeur)"
   ]
  },
  {
   "cell_type": "code",
   "execution_count": 52,
   "metadata": {},
   "outputs": [
    {
     "name": "stdout",
     "output_type": "stream",
     "text": [
      "Salon 3\n",
      "Paris 7\n",
      "Nice 1\n",
      "Metz 6\n",
      "Marseille 9\n",
      "Lyon 2\n",
      "Grenoble 8\n",
      "Avignon 4\n",
      "Avignon 5\n",
      "Avignon 11\n",
      "Arles 14\n",
      "Arles 10\n",
      "Arles 12\n",
      "Aix 13\n"
     ]
    }
   ],
   "source": [
    "liste_nb = [3, 7, 1, 6, 9, 2, 8, 4, 5, 11, 14, 10, 12, 13]\n",
    "\n",
    "for a, b in zip(villes, liste_nb) : \n",
    "    print(a, b)# pour lier deux colonnes, deux listes"
   ]
  },
  {
   "cell_type": "code",
   "execution_count": 53,
   "metadata": {},
   "outputs": [
    {
     "name": "stdout",
     "output_type": "stream",
     "text": [
      "Salon 3\n",
      "Paris 7\n",
      "Nice 1\n",
      "Metz 6\n",
      "Marseille 9\n",
      "Lyon 14\n",
      "Grenoble 10\n",
      "Avignon 12\n",
      "Avignon 13\n"
     ]
    }
   ],
   "source": [
    "liste_nb = [3, 7, 1, 6, 9, 14, 10, 12, 13]\n",
    "\n",
    "for a, b in zip(villes, liste_nb) : \n",
    "    print(a, b)# pour lier deux colonnes, deux listes"
   ]
  },
  {
   "cell_type": "code",
   "execution_count": 1,
   "metadata": {},
   "outputs": [],
   "source": [
    "#def fibonacci(n):\n",
    " #   a = 0\n",
    "  #  b = 1\n",
    "  #  liste = []\n",
    "   # while a < n :\n",
    "    #    print(liste[a])\n",
    "    #    a, b = b, a+b\n",
    "        \n",
    "#fibonacci(100)"
   ]
  },
  {
   "cell_type": "code",
   "execution_count": 4,
   "metadata": {},
   "outputs": [
    {
     "name": "stdout",
     "output_type": "stream",
     "text": [
      "Red\n",
      "Print the rainbow\n",
      "red\n",
      "Orange\n",
      "Yellow\n",
      "Green\n",
      "Blue\n",
      "Indigo\n",
      "Violet\n"
     ]
    }
   ],
   "source": [
    "Rainbow = ['Red', 'Orange', 'Yellow', 'Green', 'Blue', 'Indigo', 'Violet']\n",
    "print(Rainbow[0])\n",
    "Rainbow[0] = 'red'\n",
    "print('Print the rainbow')\n",
    "for i in range(len(Rainbow)):\n",
    "    print(Rainbow[i])"
   ]
  },
  {
   "cell_type": "code",
   "execution_count": 50,
   "metadata": {},
   "outputs": [
    {
     "name": "stdout",
     "output_type": "stream",
     "text": [
      "4\n",
      "1\n",
      "2\n",
      "3\n",
      "4\n",
      "[1, 2, 3, 4]\n",
      "1\n",
      "3\n"
     ]
    },
    {
     "ename": "IndexError",
     "evalue": "list index out of range",
     "output_type": "error",
     "traceback": [
      "\u001b[0;31m---------------------------------------------------------------------------\u001b[0m",
      "\u001b[0;31mIndexError\u001b[0m                                Traceback (most recent call last)",
      "\u001b[0;32m<ipython-input-50-e7cd7d7ec348>\u001b[0m in \u001b[0;36m<module>\u001b[0;34m\u001b[0m\n\u001b[1;32m      9\u001b[0m \u001b[0mprint\u001b[0m\u001b[0;34m(\u001b[0m\u001b[0ma\u001b[0m\u001b[0;34m[\u001b[0m\u001b[0;36m0\u001b[0m\u001b[0;34m]\u001b[0m\u001b[0;34m)\u001b[0m\u001b[0;34m\u001b[0m\u001b[0;34m\u001b[0m\u001b[0m\n\u001b[1;32m     10\u001b[0m \u001b[0mprint\u001b[0m\u001b[0;34m(\u001b[0m\u001b[0ma\u001b[0m\u001b[0;34m[\u001b[0m\u001b[0;36m2\u001b[0m\u001b[0;34m]\u001b[0m\u001b[0;34m)\u001b[0m\u001b[0;34m\u001b[0m\u001b[0;34m\u001b[0m\u001b[0m\n\u001b[0;32m---> 11\u001b[0;31m \u001b[0mprint\u001b[0m\u001b[0;34m(\u001b[0m\u001b[0ma\u001b[0m\u001b[0;34m[\u001b[0m\u001b[0;36m4\u001b[0m\u001b[0;34m]\u001b[0m\u001b[0;34m)\u001b[0m\u001b[0;34m\u001b[0m\u001b[0;34m\u001b[0m\u001b[0m\n\u001b[0m",
      "\u001b[0;31mIndexError\u001b[0m: list index out of range"
     ]
    }
   ],
   "source": [
    "a = [] # start an empty list\n",
    "n = int(input()) # read number of element in the list\n",
    "for i in range(n): \n",
    "    new_element = int(input()) # read next element\n",
    "    a.append(new_element) # add it to the list\n",
    "    # the last two lines could be replaced by one:\n",
    "    # a.append(int(input()))\n",
    "print(a)\n",
    "print(a[0])\n",
    "print(a[2])\n",
    "print(a[4])"
   ]
  },
  {
   "cell_type": "markdown",
   "metadata": {},
   "source": [
    "#given: s = 'ab12c59p7dq'\n",
    "#you need to extract digits from the list s\n",
    "# make it so:\n",
    "# digits == [1, 2, 5, 9, 7]\n",
    "\n",
    "s = 'ab12c59p7dq'\n",
    "digits = []\n",
    "for symbol in s:\n",
    "    if '1234567890'.find(symbol) != -1:\n",
    "        digits.append(int(symbol))\n",
    "print(digits)"
   ]
  },
  {
   "cell_type": "code",
   "execution_count": 9,
   "metadata": {},
   "outputs": [
    {
     "name": "stdout",
     "output_type": "stream",
     "text": [
      "[1, 2, 5, 9, 7]\n"
     ]
    }
   ],
   "source": [
    "s = 'ab12c59p7dq'\n",
    "digits = []\n",
    "for symbol in s:\n",
    "    if '1234567890'.find(symbol) != -1:\n",
    "        digits.append(int(symbol))\n",
    "print(digits)"
   ]
  },
  {
   "cell_type": "code",
   "execution_count": 16,
   "metadata": {},
   "outputs": [
    {
     "name": "stdout",
     "output_type": "stream",
     "text": [
      "aqw\n",
      "['aqw']\n",
      "aqw\n"
     ]
    }
   ],
   "source": [
    "# split\n",
    "# the input is a string\n",
    "# 1 2 3\n",
    "s = input() # s == '1 2 3'\n",
    "\n",
    "a = s.split() # a == ['1', '2', '3']\n",
    "print(a)\n",
    "print(a[0])"
   ]
  },
  {
   "cell_type": "code",
   "execution_count": 18,
   "metadata": {},
   "outputs": [
    {
     "name": "stdout",
     "output_type": "stream",
     "text": [
      "1 2 3 4\n",
      "[1, 2, 3, 4]\n"
     ]
    }
   ],
   "source": [
    "a = input().split()\n",
    "for i in range(len(a)):\n",
    "    a[i] = int(a[i])\n",
    "print(a)"
   ]
  },
  {
   "cell_type": "code",
   "execution_count": 19,
   "metadata": {},
   "outputs": [
    {
     "name": "stdout",
     "output_type": "stream",
     "text": [
      "['192', '168', '0', '1']\n"
     ]
    }
   ],
   "source": [
    "a = '192.168.0.1'.split('.')\n",
    "print(a)"
   ]
  },
  {
   "cell_type": "code",
   "execution_count": 20,
   "metadata": {},
   "outputs": [
    {
     "name": "stdout",
     "output_type": "stream",
     "text": [
      "red green blue\n",
      "redgreenblue\n",
      "red***green***blue\n"
     ]
    }
   ],
   "source": [
    "a = ['red', 'green', 'blue']\n",
    "print(' '.join(a))\n",
    "# return red green blue\n",
    "print(''.join(a))\n",
    "# return redgreenblue\n",
    "print('***'.join(a))\n",
    "# returns red***green***blue"
   ]
  },
  {
   "cell_type": "code",
   "execution_count": 27,
   "metadata": {},
   "outputs": [
    {
     "name": "stdout",
     "output_type": "stream",
     "text": [
      "1**2**3\n",
      "[1, 2, 3]\n",
      "3\n"
     ]
    }
   ],
   "source": [
    "a = [1, 2, 3]\n",
    "print('**'.join([str(i) for i in a]))\n",
    "# the next line causes a type error,\n",
    "# as join() can only concatenate strs\n",
    "# print(' '.join(a))\n",
    "type(a)\n",
    "print (a)\n",
    "b = a[0] + a[1]\n",
    "print(b)\n"
   ]
  },
  {
   "cell_type": "code",
   "execution_count": 28,
   "metadata": {},
   "outputs": [
    {
     "name": "stdout",
     "output_type": "stream",
     "text": [
      "[0, 0, 0, 0, 0]\n"
     ]
    }
   ],
   "source": [
    "n = 5\n",
    "a = [0] * n\n",
    "print(a)"
   ]
  },
  {
   "cell_type": "code",
   "execution_count": 29,
   "metadata": {},
   "outputs": [
    {
     "name": "stdout",
     "output_type": "stream",
     "text": [
      "[0, 0, 0, 0, 0]\n"
     ]
    }
   ],
   "source": [
    "a = [0 for i in range(5)]\n",
    "print(a)"
   ]
  },
  {
   "cell_type": "code",
   "execution_count": 30,
   "metadata": {},
   "outputs": [
    {
     "name": "stdout",
     "output_type": "stream",
     "text": [
      "[0, 1, 4, 9, 16]\n"
     ]
    }
   ],
   "source": [
    "n = 5\n",
    "a = [i ** 2 for i in range(n)]\n",
    "print(a)"
   ]
  },
  {
   "cell_type": "code",
   "execution_count": 31,
   "metadata": {},
   "outputs": [
    {
     "name": "stdout",
     "output_type": "stream",
     "text": [
      "[1, 4, 9, 16, 25]\n"
     ]
    }
   ],
   "source": [
    "n = 5\n",
    "a = [i ** 2 for i in range(1, n + 1)]\n",
    "print(a)"
   ]
  },
  {
   "cell_type": "code",
   "execution_count": 32,
   "metadata": {},
   "outputs": [
    {
     "name": "stdout",
     "output_type": "stream",
     "text": [
      "[6, 9, 8, 8, 7, 9, 7, 2, 5, 4]\n"
     ]
    }
   ],
   "source": [
    "# randrange(a,b,k)\n",
    "# Choisit un entier int aléatoirement dans range(a,b,k)\n",
    "from random import randrange\n",
    "n = 10\n",
    "a = [randrange(1, 10) for i in range(n)]\n",
    "print(a)"
   ]
  },
  {
   "cell_type": "code",
   "execution_count": 37,
   "metadata": {},
   "outputs": [
    {
     "name": "stdout",
     "output_type": "stream",
     "text": [
      "2\n",
      "2\n",
      "2\n",
      "['2', '2']\n"
     ]
    }
   ],
   "source": [
    "a = [input() for i in range(int(input()))]\n",
    "print(a)"
   ]
  },
  {
   "cell_type": "code",
   "execution_count": 38,
   "metadata": {},
   "outputs": [
    {
     "name": "stdout",
     "output_type": "stream",
     "text": [
      "[40, 2, 30, 4, 20, 6, 10]\n"
     ]
    }
   ],
   "source": [
    "A = [1, 2, 3, 4, 5, 6, 7]\n",
    "A[::-2] = [10, 20, 30, 40]\n",
    "print(A)"
   ]
  },
  {
   "cell_type": "code",
   "execution_count": 62,
   "metadata": {},
   "outputs": [
    {
     "ename": "SyntaxError",
     "evalue": "unexpected EOF while parsing (<ipython-input-62-03754bb41b23>, line 19)",
     "output_type": "error",
     "traceback": [
      "\u001b[0;36m  File \u001b[0;32m\"<ipython-input-62-03754bb41b23>\"\u001b[0;36m, line \u001b[0;32m19\u001b[0m\n\u001b[0;31m    \u001b[0m\n\u001b[0m    ^\u001b[0m\n\u001b[0;31mSyntaxError\u001b[0m\u001b[0;31m:\u001b[0m unexpected EOF while parsing\n"
     ]
    }
   ],
   "source": [
    "#'''Étant donné une liste de nombres, recherchez et imprimez tous les éléments de la liste avec un numéro d'index \n",
    "#pair. (c'est-à-dire A [0], A [2], A [4], ...).'''\n",
    "\n",
    "a = input()\n",
    "\n",
    "#print(a)\n",
    "\n",
    "#print(a[::2])\n",
    "#print(a[::2])\n",
    "#print(a[0])\n",
    "#print(a[i])\n",
    "\n",
    "\n",
    "print(''.join(a.split()[::2])\n",
    "#print(a[i])\n",
    "\n",
    "#print(a)       \n",
    "\n",
    "\n"
   ]
  },
  {
   "cell_type": "code",
   "execution_count": 64,
   "metadata": {},
   "outputs": [
    {
     "ename": "SyntaxError",
     "evalue": "unexpected EOF while parsing (<ipython-input-64-9edce7ecdd82>, line 3)",
     "output_type": "error",
     "traceback": [
      "\u001b[0;36m  File \u001b[0;32m\"<ipython-input-64-9edce7ecdd82>\"\u001b[0;36m, line \u001b[0;32m3\u001b[0m\n\u001b[0;31m    print(' '.join(a.split()[::2])\u001b[0m\n\u001b[0m                                  ^\u001b[0m\n\u001b[0;31mSyntaxError\u001b[0m\u001b[0;31m:\u001b[0m unexpected EOF while parsing\n"
     ]
    }
   ],
   "source": [
    "a = input()\n",
    "\n",
    "print(' '.join(a.split()[::2])"
   ]
  },
  {
   "cell_type": "code",
   "execution_count": 2,
   "metadata": {},
   "outputs": [
    {
     "name": "stdout",
     "output_type": "stream",
     "text": [
      "[0, 1, 1, 2, 3, 5, 8, 13, 21, 34, 55, 89]\n"
     ]
    }
   ],
   "source": [
    "def fibonacci(n):\n",
    "    # retourne une liste contenant la suite de fibonacci jusqu'à n\n",
    "    a = 0\n",
    "    b = 1\n",
    "    fib = [a]\n",
    "    while b < n :\n",
    "        a, b = b, a+b\n",
    "        fib.append(a)\n",
    "    return fib\n",
    "\n",
    "print (fibonacci(100))\n",
    "        \n",
    "    "
   ]
  },
  {
   "cell_type": "code",
   "execution_count": null,
   "metadata": {},
   "outputs": [],
   "source": []
  },
  {
   "cell_type": "code",
   "execution_count": null,
   "metadata": {},
   "outputs": [],
   "source": []
  },
  {
   "cell_type": "code",
   "execution_count": null,
   "metadata": {},
   "outputs": [],
   "source": []
  }
 ],
 "metadata": {
  "kernelspec": {
   "display_name": "Python 3",
   "language": "python",
   "name": "python3"
  },
  "language_info": {
   "codemirror_mode": {
    "name": "ipython",
    "version": 3
   },
   "file_extension": ".py",
   "mimetype": "text/x-python",
   "name": "python",
   "nbconvert_exporter": "python",
   "pygments_lexer": "ipython3",
   "version": "3.7.4"
  }
 },
 "nbformat": 4,
 "nbformat_minor": 2
}
