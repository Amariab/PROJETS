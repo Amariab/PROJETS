{
 "cells": [
  {
   "cell_type": "code",
   "execution_count": 1,
   "metadata": {},
   "outputs": [],
   "source": [
    "inventaire1 = {\n",
    "    \"pommes\" : 3,\n",
    "    \"fraises\" : 4,\n",
    "    \"cerises\" : 8,\n",
    "    \"bananes\" : 9   \n",
    "}\n",
    "\n",
    "# clé pommes ne peut pas être en double\n",
    "# dico dans un dico  (nested)\n",
    "# \"clé\": valeur ce n'est pas une affectation mais une association"
   ]
  },
  {
   "cell_type": "code",
   "execution_count": 10,
   "metadata": {
    "scrolled": true
   },
   "outputs": [
    {
     "data": {
      "text/plain": [
       "dict_values([3, 4, 8, 9])"
      ]
     },
     "execution_count": 10,
     "metadata": {},
     "output_type": "execute_result"
    }
   ],
   "source": [
    "inventaire1.values()\n"
   ]
  },
  {
   "cell_type": "code",
   "execution_count": 11,
   "metadata": {},
   "outputs": [
    {
     "data": {
      "text/plain": [
       "dict_keys(['pommes', 'fraises', 'cerises', 'bananes'])"
      ]
     },
     "execution_count": 11,
     "metadata": {},
     "output_type": "execute_result"
    }
   ],
   "source": [
    "inventaire1.keys()\n",
    "\n"
   ]
  },
  {
   "cell_type": "code",
   "execution_count": 12,
   "metadata": {},
   "outputs": [
    {
     "data": {
      "text/plain": [
       "4"
      ]
     },
     "execution_count": 12,
     "metadata": {},
     "output_type": "execute_result"
    }
   ],
   "source": [
    "len(inventaire1)\n"
   ]
  },
  {
   "cell_type": "code",
   "execution_count": 22,
   "metadata": {},
   "outputs": [],
   "source": [
    "inventaire1 = {\n",
    "    \"pommes\" : 3,\n",
    "    \"fraises\" : 4,\n",
    "    \"cerises\" : 8,\n",
    "    \"bananes\" : 9   \n",
    "}\n",
    "inventaire2 = {\n",
    "    \"carottes\" : 8,\n",
    "    \"endives\" : 5,\n",
    "    \"salades\" : 3\n",
    "}\n",
    "\n",
    "inventaire3 = {\n",
    "    \"dict_1\" : inventaire1,\n",
    "    \"dict_2\" : inventaire2\n",
    "}    "
   ]
  },
  {
   "cell_type": "code",
   "execution_count": 27,
   "metadata": {},
   "outputs": [
    {
     "data": {
      "text/plain": [
       "{'pommes': 3, 'fraises': 4, 'cerises': 8, 'bananes': 9, 'abricots': 5}"
      ]
     },
     "execution_count": 27,
     "metadata": {},
     "output_type": "execute_result"
    }
   ],
   "source": [
    "inventaire1 [\"abricots\"] = 5\n",
    "inventaire1\n"
   ]
  },
  {
   "cell_type": "code",
   "execution_count": 16,
   "metadata": {},
   "outputs": [
    {
     "ename": "KeyError",
     "evalue": "'pêches'",
     "output_type": "error",
     "traceback": [
      "\u001b[0;31m---------------------------------------------------------------------------\u001b[0m",
      "\u001b[0;31mKeyError\u001b[0m                                  Traceback (most recent call last)",
      "\u001b[0;32m<ipython-input-16-ffdde848e690>\u001b[0m in \u001b[0;36m<module>\u001b[0;34m\u001b[0m\n\u001b[1;32m      1\u001b[0m \u001b[0;31m#rajout d'un élément\u001b[0m\u001b[0;34m\u001b[0m\u001b[0;34m\u001b[0m\u001b[0;34m\u001b[0m\u001b[0m\n\u001b[1;32m      2\u001b[0m \u001b[0;34m\u001b[0m\u001b[0m\n\u001b[0;32m----> 3\u001b[0;31m \u001b[0minventaire\u001b[0m\u001b[0;34m[\u001b[0m\u001b[0;34m\"pêches\"\u001b[0m\u001b[0;34m]\u001b[0m\u001b[0;34m\u001b[0m\u001b[0;34m\u001b[0m\u001b[0m\n\u001b[0m",
      "\u001b[0;31mKeyError\u001b[0m: 'pêches'"
     ]
    }
   ],
   "source": [
    "#rajout d'un élément\n",
    "\n",
    "inventaire[\"pêches\"]\n",
    "#===> pas de pêches : DONC ERREUR"
   ]
  },
  {
   "cell_type": "code",
   "execution_count": 17,
   "metadata": {},
   "outputs": [],
   "source": [
    "# méthode GET qui va nous retourner une valeur par défaut si la clé n'existe pas.\n",
    "\n",
    "inventaire1.get(\"pêches\") # pas de réponse car n'existe pas\n",
    "\n"
   ]
  },
  {
   "cell_type": "code",
   "execution_count": 18,
   "metadata": {},
   "outputs": [
    {
     "name": "stdout",
     "output_type": "stream",
     "text": [
      "None\n"
     ]
    }
   ],
   "source": [
    "print(inventaire1.get(\"pêches\"))"
   ]
  },
  {
   "cell_type": "code",
   "execution_count": 21,
   "metadata": {},
   "outputs": [
    {
     "name": "stdout",
     "output_type": "stream",
     "text": [
      "0\n",
      "8\n"
     ]
    }
   ],
   "source": [
    "# valeur par défaut si NONE\n",
    "\n",
    "print(inventaire1.get(\"pêches\", 0))\n",
    "print(inventaire1.get(\"cerises\", 0))\n"
   ]
  },
  {
   "cell_type": "code",
   "execution_count": 23,
   "metadata": {},
   "outputs": [
    {
     "data": {
      "text/plain": [
       "{'Paris': 'defaut',\n",
       " 'Lyon': 'defaut',\n",
       " 'Londres': 'defaut',\n",
       " 'Milan': 'defaut',\n",
       " 'Bruxelles': 'defaut'}"
      ]
     },
     "execution_count": 23,
     "metadata": {},
     "output_type": "execute_result"
    }
   ],
   "source": [
    "# Création d'un dico à partir d'une liste.\n",
    "\n",
    "liste1 = (\"Paris\", \"Lyon\", \"Londres\", \"Milan\", \"Bruxelles\")\n",
    "\n",
    "inventaire.fromkeys(liste1, \"defaut\")"
   ]
  },
  {
   "cell_type": "code",
   "execution_count": 28,
   "metadata": {},
   "outputs": [
    {
     "data": {
      "text/plain": [
       "5"
      ]
     },
     "execution_count": 28,
     "metadata": {},
     "output_type": "execute_result"
    }
   ],
   "source": [
    "# extraire un élément\n",
    "\n",
    "#inventaire1.pop(\"abricots\")# retrait de l'association\n",
    "inventaire1.pop(\"abricots\")\n",
    "\n"
   ]
  },
  {
   "cell_type": "code",
   "execution_count": 33,
   "metadata": {},
   "outputs": [
    {
     "data": {
      "text/plain": [
       "{'pommes': 3, 'fraises': 4, 'cerises': 8, 'bananes': 9}"
      ]
     },
     "execution_count": 33,
     "metadata": {},
     "output_type": "execute_result"
    }
   ],
   "source": [
    "inventaire1 [\"abricots\"] = 5\n",
    "inventaire1\n",
    "fruits = inventaire1.pop(\"abricots\")\n",
    "fruits\n",
    "\n",
    "inventaire1"
   ]
  },
  {
   "cell_type": "code",
   "execution_count": 35,
   "metadata": {},
   "outputs": [
    {
     "name": "stdout",
     "output_type": "stream",
     "text": [
      "pommes\n",
      "fraises\n",
      "cerises\n",
      "bananes\n"
     ]
    }
   ],
   "source": [
    "for i in inventaire1 :\n",
    "    print(i)"
   ]
  },
  {
   "cell_type": "code",
   "execution_count": 38,
   "metadata": {},
   "outputs": [
    {
     "name": "stdout",
     "output_type": "stream",
     "text": [
      "3\n",
      "4\n",
      "8\n",
      "9\n"
     ]
    }
   ],
   "source": [
    "for i in inventaire1.values() :\n",
    "    print(i)"
   ]
  },
  {
   "cell_type": "code",
   "execution_count": 39,
   "metadata": {},
   "outputs": [
    {
     "name": "stdout",
     "output_type": "stream",
     "text": [
      "('pommes', 3)\n",
      "('fraises', 4)\n",
      "('cerises', 8)\n",
      "('bananes', 9)\n"
     ]
    }
   ],
   "source": [
    "for i in inventaire1.items() :\n",
    "    print(i)"
   ]
  },
  {
   "cell_type": "code",
   "execution_count": 40,
   "metadata": {},
   "outputs": [
    {
     "name": "stdout",
     "output_type": "stream",
     "text": [
      "pommes 3\n",
      "fraises 4\n",
      "cerises 8\n",
      "bananes 9\n"
     ]
    }
   ],
   "source": [
    "for k, v in inventaire1.items() :\n",
    "    print(k, v)"
   ]
  },
  {
   "cell_type": "code",
   "execution_count": 41,
   "metadata": {},
   "outputs": [],
   "source": [
    "# 1\n",
    "classeur = {\n",
    "    \"positif\" : [],\n",
    "    \"negatif\" : []\n",
    "}"
   ]
  },
  {
   "cell_type": "code",
   "execution_count": 3,
   "metadata": {},
   "outputs": [
    {
     "data": {
      "text/plain": [
       "{'positif': [16, 3], 'negatif': [-2]}"
      ]
     },
     "execution_count": 3,
     "metadata": {},
     "output_type": "execute_result"
    }
   ],
   "source": [
    "# 2\n",
    "classeur = {\n",
    "    \"positif\" : [],\n",
    "    \"negatif\" : []\n",
    "}\n",
    "def trier(classeur, nombre):\n",
    "    # classeur : dictionnaire taille 2\n",
    "    # nombre : int\n",
    "    # range nombre dans \"positif\" ou\"negatif\" de classeur selon le signe de nombre\n",
    "    #n = int(input(\"Donnez un chiffre\"))\n",
    "   \n",
    "   # for i in range(nombre) :\n",
    "        if nombre > 0 :\n",
    "            classeur[\"positif\"].append(nombre)\n",
    "        else :\n",
    "             classeur[\"negatif\"].append(nombre)\n",
    "\n",
    "        return classeur\n",
    "\n",
    "trier(classeur, -2)\n",
    "trier(classeur, 16)\n",
    "trier(classeur, 3)\n",
    "\n",
    "    \n",
    "    "
   ]
  },
  {
   "cell_type": "code",
   "execution_count": null,
   "metadata": {},
   "outputs": [],
   "source": []
  },
  {
   "cell_type": "code",
   "execution_count": null,
   "metadata": {},
   "outputs": [],
   "source": []
  },
  {
   "cell_type": "code",
   "execution_count": null,
   "metadata": {},
   "outputs": [],
   "source": [
    "\n"
   ]
  },
  {
   "cell_type": "code",
   "execution_count": null,
   "metadata": {},
   "outputs": [],
   "source": []
  }
 ],
 "metadata": {
  "kernelspec": {
   "display_name": "Python 3",
   "language": "python",
   "name": "python3"
  },
  "language_info": {
   "codemirror_mode": {
    "name": "ipython",
    "version": 3
   },
   "file_extension": ".py",
   "mimetype": "text/x-python",
   "name": "python",
   "nbconvert_exporter": "python",
   "pygments_lexer": "ipython3",
   "version": "3.7.4"
  }
 },
 "nbformat": 4,
 "nbformat_minor": 2
}
