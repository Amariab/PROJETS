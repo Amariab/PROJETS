{
 "cells": [
  {
   "cell_type": "code",
   "execution_count": 47,
   "metadata": {},
   "outputs": [],
   "source": [
    "# http://www.nymphomath.ch/pj/hasard/index.html"
   ]
  },
  {
   "cell_type": "code",
   "execution_count": 1,
   "metadata": {},
   "outputs": [],
   "source": [
    "# RANDOM\n",
    "# Cette fonction retourne un nombre réel entre 0 (compris) et 1 (non compris)."
   ]
  },
  {
   "cell_type": "code",
   "execution_count": 2,
   "metadata": {},
   "outputs": [
    {
     "name": "stdout",
     "output_type": "stream",
     "text": [
      "0.19474821780851903\n"
     ]
    }
   ],
   "source": [
    "from random import random\n",
    "print(random())"
   ]
  },
  {
   "cell_type": "code",
   "execution_count": 3,
   "metadata": {},
   "outputs": [],
   "source": [
    "# RANDINT\n",
    "#La fonction randint(a,b) retourne un nombre entier entre a et b (bornes comprises). \n",
    "# On peut ainsi facilement simuler le jet d'un dé :"
   ]
  },
  {
   "cell_type": "code",
   "execution_count": 4,
   "metadata": {},
   "outputs": [
    {
     "name": "stdout",
     "output_type": "stream",
     "text": [
      "3\n"
     ]
    }
   ],
   "source": [
    "from random import randint\n",
    "print(randint(1,6))"
   ]
  },
  {
   "cell_type": "code",
   "execution_count": 7,
   "metadata": {},
   "outputs": [
    {
     "name": "stdout",
     "output_type": "stream",
     "text": [
      "4, 6, 1, 2, 1, 1, 6, 1, 2, 1, 5, 5, 6, 1, 3, 6, 5, 3, 4, 1, 6, 3, 4, 6, 5, 4, 3, 1, 1, 4, 1, 5, 2, 3, 4, 2, 3, 2, 2, 4, 2, 3, 3, 4, 1, 1, 1, 2, 3, 4, 6, 4, 3, 2, 3, 1, 6, 3, 4, 6, 6, 6, 2, 3, 4, 5, 1, 4, 2, 5, 5, 4, 3, 3, 3, 4, 3, 6, 1, 3, 3, 5, 4, 1, 3, 5, 2, 2, 6, 5, 3, 2, 1, 1, 3, 5, 2, 3, 4, 4, "
     ]
    }
   ],
   "source": [
    "from random import randint\n",
    "\n",
    "#for x in range(100):\n",
    "    #print(randint(1,6), end=\" \")\n",
    "    \n",
    "for x in range(100):\n",
    "    print(randint(1,6), end=\", \")\n",
    "    \n",
    "# L'instruction end=\" \" permet de séparer les valeurs par un espace plutôt que par un saut de ligne."
   ]
  },
  {
   "cell_type": "code",
   "execution_count": 12,
   "metadata": {},
   "outputs": [
    {
     "name": "stdout",
     "output_type": "stream",
     "text": [
      "12\n"
     ]
    }
   ],
   "source": [
    "# Écrivez un programme qui simule le jet de trois dés à six faces (on additionne le résultat des trois dés).\n",
    "\n",
    "from random import randint\n",
    "\n",
    "print(randint(1,6)+randint(1,6)+randint(1,6))\n"
   ]
  },
  {
   "cell_type": "code",
   "execution_count": 14,
   "metadata": {},
   "outputs": [
    {
     "name": "stdout",
     "output_type": "stream",
     "text": [
      "9 9 12 11 10 10 11 12 12 10 10 12 6 8 11 11 11 14 11 9 10 16 14 12 9 9 10 12 8 9 10 12 13 12 11 16 14 13 12 13 14 6 17 12 15 15 11 7 6 10 \n"
     ]
    }
   ],
   "source": [
    "# Écrivez un programme qui simule 50 jets de trois dés à six faces.\n",
    "# Écrivez un programme qui simule 200 jets de deux dés à huit faces.\n",
    "\n",
    "from random import randint\n",
    "\n",
    "for x in range(50):\n",
    "    from random import choice\n",
    "liste = ['a','b','c','d','e','f','g','h']\n",
    "print(choice(liste))print(randint(1,6)+randint(1,6)+randint(1,6), end=\" \")\n"
   ]
  },
  {
   "cell_type": "code",
   "execution_count": 26,
   "metadata": {},
   "outputs": [
    {
     "name": "stdout",
     "output_type": "stream",
     "text": [
      "4 8 9 4 7 8 10 13 6 6 9 8 13 10 6 9 15 9 7 10 "
     ]
    }
   ],
   "source": [
    "# Écrivez un programme qui simule 200 jets de deux dés à huit faces.\n",
    "\n",
    "for x in range(20):\n",
    "    print(randint(1,8)+randint(1,8), end=\" \")"
   ]
  },
  {
   "cell_type": "code",
   "execution_count": 16,
   "metadata": {},
   "outputs": [
    {
     "name": "stdout",
     "output_type": "stream",
     "text": [
      "c\n"
     ]
    }
   ],
   "source": [
    "# RANDOM CHOICE\n",
    "# La fonction choice(liste) permet de tirer au sort un de ces éléments :\n",
    "\n",
    "from random import choice\n",
    "liste = ['a','b','c','d','e','f','g','h']\n",
    "print(choice(liste))"
   ]
  },
  {
   "cell_type": "code",
   "execution_count": 19,
   "metadata": {},
   "outputs": [
    {
     "name": "stdout",
     "output_type": "stream",
     "text": [
      "1 2 6 4 1 2 3 6 5 1 3 3 5 5 4 6 4 3 1 3 5 5 2 6 3 6 6 6 3 6 4 2 5 1 6 6 1 6 2 2 6 5 4 4 1 2 5 6 1 3 2 1 5 3 5 2 1 5 6 5 5 6 2 3 2 3 6 2 5 1 5 4 6 1 6 3 2 2 5 5 3 4 5 2 5 3 4 4 5 2 6 6 6 6 6 6 3 5 6 6 "
     ]
    }
   ],
   "source": [
    "# Trouvez un moyen de simuler un dé pipé à six faces :  \n",
    "    \n",
    "# • 1 apparaît dans 10 % des cas,\n",
    "# • 2, 3, 4 et 5 dans 15 % des cas\n",
    "# • 6 dans 30 % des cas.\n",
    "\n",
    "#Écrivez un programme qui simule 100 jets de ce dé.\n",
    "\n",
    "from random import choice\n",
    "\n",
    "liste = [1,1,2,2,2,3,3,3,4,4,4,5,5,5,6,6,6,6,6,6]\n",
    "for x in range(100):\n",
    "    print(choice(liste),end=\" \")"
   ]
  },
  {
   "cell_type": "code",
   "execution_count": 24,
   "metadata": {},
   "outputs": [
    {
     "name": "stdout",
     "output_type": "stream",
     "text": [
      "jf5vc8ms"
     ]
    }
   ],
   "source": [
    "# Écrivez un programme que génère un mot de passe de 8 caractères aléatoires, choisis parmi les 26 lettres \n",
    "# minuscules et les 10 chiffres.\n",
    "\n",
    "from random import choice\n",
    "liste = [\"a\", \"b\", \"c\", \"d\", \"e\", \"f\", \"g\", \"h\", \"i\", \"j\", \"k\", \"l\", \"m\", \"n\", \"o\", \"p\", \"q\", \"r\",\"s\", \"t\", \"u\", \"v\", \"w\", \"x\", \"y\", \"z\", \"0\", \"1\", \"2\", \"3\", \"4\", \"5\", \"6\", \"7\", \"8\", \"9\"]\n",
    "for x in range(8):\n",
    "    print(choice(liste), end=\"\")"
   ]
  },
  {
   "cell_type": "code",
   "execution_count": 25,
   "metadata": {},
   "outputs": [
    {
     "name": "stdout",
     "output_type": "stream",
     "text": [
      "['d', 'h', 'b', 'a', 'f', 'c', 'e', 'g']\n"
     ]
    }
   ],
   "source": [
    "# RANDOM SHUFFLE\n",
    "# La fonction shuffle(liste) mélange les éléments d'une liste. \n",
    "\n",
    "from random import shuffle\n",
    "liste = ['a','b','c','d','e','f','g','h']\n",
    "shuffle(liste)\n",
    "print(liste)"
   ]
  },
  {
   "cell_type": "code",
   "execution_count": 32,
   "metadata": {},
   "outputs": [
    {
     "name": "stdout",
     "output_type": "stream",
     "text": [
      "['Daniel Bryan', 'Bo Dallas', 'Damien Sandow', 'Cody Rhodes', 'Wade Barrett', 'Heath Slater', \"Titus O'Neil\", 'John Cena', 'Jinder Mahal', 'Zack Ryder', 'Kane', 'Santino Marella', 'Drew McIntyre', 'The Miz', 'Chris Jericho', 'Randy Orton', 'Goldust', 'David Otunga', 'The Godfather', 'Rey Mysterio', 'Sin Cara', 'Kofi Kingston', 'The Great Khali', 'Sheamus', 'Ryback', 'Darren Young', 'Brodus Clay', 'Dolph Ziggler', 'Antonio Cesaro', 'Tensai']\n",
      "\n",
      "1 Daniel Bryan\n",
      "2 Bo Dallas\n",
      "3 Damien Sandow\n",
      "4 Cody Rhodes\n",
      "5 Wade Barrett\n",
      "6 Heath Slater\n",
      "7 Titus O'Neil\n",
      "8 John Cena\n",
      "9 Jinder Mahal\n",
      "10 Zack Ryder\n",
      "11 Kane\n",
      "12 Santino Marella\n",
      "13 Drew McIntyre\n",
      "14 The Miz\n",
      "15 Chris Jericho\n",
      "16 Randy Orton\n",
      "17 Goldust\n",
      "18 David Otunga\n",
      "19 The Godfather\n",
      "20 Rey Mysterio\n",
      "21 Sin Cara\n",
      "22 Kofi Kingston\n",
      "23 The Great Khali\n",
      "24 Sheamus\n",
      "25 Ryback\n",
      "26 Darren Young\n",
      "27 Brodus Clay\n",
      "28 Dolph Ziggler\n",
      "29 Antonio Cesaro\n",
      "30 Tensai\n"
     ]
    }
   ],
   "source": [
    "\"\"\"Le Royal Rumble est une bataille royale exposant 30 catcheurs durant un combat. \n",
    "La particularité du match est que les catcheurs ne sont que deux au départ et qu'un nouvel entrant \n",
    "arrive au bout d'un temps prédéfini, et ceci de façon régulière jusqu'à ce que tous les participants aient fait\n",
    "leur entrée.\"\"\"\n",
    "\n",
    "# Écrivez un programme qui donnera un ordre d'entrée aléatoire des catcheurs, dont voici la liste\n",
    "\n",
    "liste = ['Wade Barrett', 'Daniel Bryan', 'Sin Cara', 'John Cena', 'Antonio Cesaro', 'Brodus Clay',\n",
    "         'Bo Dallas', 'The Godfather', 'Goldust', 'Kane', 'The Great Khali', 'Chris Jericho', 'Kofi Kingston',\n",
    "         'Jinder Mahal', 'Santino Marella', 'Drew McIntyre', 'The Miz', 'Rey Mysterio', \"Titus O'Neil\", \n",
    "         'Randy Orton', 'David Otunga', 'Cody Rhodes', 'Ryback', 'Zack Ryder', 'Damien Sandow', 'Heath Slater',\n",
    "         'Sheamus', 'Tensai', 'Darren Young', 'Dolph Ziggler']\n",
    "\n",
    "from random import shuffle\n",
    "shuffle(liste)\n",
    "print(liste)\n",
    "print()\n",
    "for i in range(30):\n",
    "    print(i+1,liste[i])\n"
   ]
  },
  {
   "cell_type": "code",
   "execution_count": 34,
   "metadata": {},
   "outputs": [
    {
     "name": "stdout",
     "output_type": "stream",
     "text": [
      "['f', 'c', 'e']\n"
     ]
    }
   ],
   "source": [
    "# SAMPLE()\n",
    "# La fonction sample(liste,k) tire au sort k éléments d'une liste.\n",
    "\n",
    "from random import sample\n",
    "liste = ['a','b','c','d','e','f','g','h']\n",
    "print(sample(liste,3))"
   ]
  },
  {
   "cell_type": "code",
   "execution_count": 37,
   "metadata": {},
   "outputs": [
    {
     "name": "stdout",
     "output_type": "stream",
     "text": [
      "[38, 21, 8, 4, 24]\n",
      "[6, 8]\n"
     ]
    }
   ],
   "source": [
    "\"\"\"Écrivez un programme qui simule un tirage Euro Millions : cinq numéros tirés au sort entre 1 et\n",
    "50, suivi deux étoiles numérotées de 1 à 11.\"\"\"\n",
    "\n",
    "from random import sample\n",
    "\n",
    "liste_num = list(range(1,51))\n",
    "print(sample(liste_num,5))\n",
    "\n",
    "liste_etoiles = list(range(1,12))\n",
    "print(sample(liste_etoiles,2))\n",
    "\n",
    "\n"
   ]
  },
  {
   "cell_type": "code",
   "execution_count": 41,
   "metadata": {},
   "outputs": [
    {
     "name": "stdout",
     "output_type": "stream",
     "text": [
      "[46, 76, 1, 77, 41, 81, 12, 22, 40, 45, 85, 72, 16, 9, 62, 69, 65, 18, 80, 32, 59, 13, 42, 60, 31, 26, 28, 27, 34, 2, 29, 50, 20, 33, 89, 6, 54, 55, 48, 71, 88, 24, 82, 11, 3, 58, 15, 51, 14, 68, 61, 37, 87, 8, 64, 79, 70, 52, 5, 21, 67, 25, 30, 56, 38, 49, 43, 73, 83, 84, 19, 23, 57, 10, 4, 44, 74, 63, 17, 35, 7, 47, 78, 90, 66, 53, 36, 75, 39, 86]\n"
     ]
    }
   ],
   "source": [
    "\"\"\"Le bingo est un jeu de société où les nombres tirés au sort sont annoncés les uns à la suite des\n",
    "autres, dans un ordre aléatoire. Supposons que les boules soient numérotées de 1 à 90.\n",
    "Simulez une partie de bingo. Autrement dit, il faut mélanger les boules.\"\"\"\n",
    "\n",
    "from random import sample, shuffle\n",
    "\n",
    "liste = list(range(1, 91))\n",
    "shuffle (liste)\n",
    "print(liste)\n"
   ]
  },
  {
   "cell_type": "code",
   "execution_count": 46,
   "metadata": {},
   "outputs": [
    {
     "name": "stdout",
     "output_type": "stream",
     "text": [
      "[16, 37, 74, 78, 49, 50, 65, 62, 60, 2, 64, 18, 73, 57, 75, 40, 4, 38, 58, 59, 39, 34, 84, 10, 25, 31, 51, 52, 23, 82, 9, 15, 12, 85, 22, 48, 21, 46, 81, 27, 42, 26, 33, 17, 47, 79, 72, 7, 14, 19, 35, 86, 8, 29, 30, 61, 80, 32, 53, 55, 36, 54, 45, 1, 70, 6, 28, 5, 77, 41, 89, 44, 76, 3, 13, 56, 71, 90, 66, 83, 68, 63, 43, 67, 11, 20, 88, 87, 24, 69]\n"
     ]
    }
   ],
   "source": [
    "# avec sample\n",
    "\n",
    "liste = list(range(1,91))\n",
    "print(sample(liste, 90))"
   ]
  },
  {
   "cell_type": "code",
   "execution_count": null,
   "metadata": {},
   "outputs": [],
   "source": []
  },
  {
   "cell_type": "code",
   "execution_count": null,
   "metadata": {},
   "outputs": [],
   "source": []
  }
 ],
 "metadata": {
  "kernelspec": {
   "display_name": "Python 3",
   "language": "python",
   "name": "python3"
  },
  "language_info": {
   "codemirror_mode": {
    "name": "ipython",
    "version": 3
   },
   "file_extension": ".py",
   "mimetype": "text/x-python",
   "name": "python",
   "nbconvert_exporter": "python",
   "pygments_lexer": "ipython3",
   "version": "3.7.4"
  }
 },
 "nbformat": 4,
 "nbformat_minor": 2
}
